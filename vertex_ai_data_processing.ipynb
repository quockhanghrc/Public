{
 "cells": [
  {
   "cell_type": "code",
   "execution_count": 1128,
   "id": "123c2a7b-40a5-4182-bab8-60271070ad59",
   "metadata": {
    "tags": []
   },
   "outputs": [],
   "source": [
    "import os\n",
    "from datetime import datetime\n",
    "\n",
    "PROJECT_ID = \"project_id\"  # @param {type:\"string\"}\n",
    "REGION = \"asia-southeast1\""
   ]
  },
  {
   "cell_type": "markdown",
   "id": "c4acb6ed-7d4d-4bdd-8352-7ff8268d886a",
   "metadata": {
    "tags": []
   },
   "source": [
    "#### Bare-minimum framework to deploy endpoint on Vertex AI"
   ]
  },
  {
   "cell_type": "code",
   "execution_count": 1129,
   "id": "1b93705b-1a11-4662-b7ac-d710beb2af11",
   "metadata": {
    "tags": []
   },
   "outputs": [
    {
     "name": "stdout",
     "output_type": "stream",
     "text": [
      "Overwriting requirements.txt\n"
     ]
    }
   ],
   "source": [
    "%%writefile requirements.txt\n",
    "fastapi\n",
    "uvicorn==0.17.6\n",
    "joblib~=1.0\n",
    "numpy~=1.20\n",
    "scikit-learn~=1.3\n",
    "google-cloud-storage>=1.26.0,<2.0.0dev\n",
    "google-cloud-aiplatform[prediction]>=1.16.0"
   ]
  },
  {
   "cell_type": "code",
   "execution_count": 1130,
   "id": "67cffbcb-3152-4c43-9123-0cb8023ef483",
   "metadata": {
    "tags": []
   },
   "outputs": [
    {
     "name": "stdout",
     "output_type": "stream",
     "text": [
      "Updated property [core/project].\n"
     ]
    }
   ],
   "source": [
    "! gcloud config set project $PROJECT_ID"
   ]
  },
  {
   "cell_type": "code",
   "execution_count": 1131,
   "id": "fa0c06aa-bcad-41cc-ae52-6bf85b93c452",
   "metadata": {
    "tags": []
   },
   "outputs": [],
   "source": [
    "TIMESTAMP = datetime.now().strftime(\"%Y%m%d%H%M%S\")"
   ]
  },
  {
   "cell_type": "code",
   "execution_count": 1132,
   "id": "138125d5-5669-47ff-9724-8f1ab3908016",
   "metadata": {
    "tags": []
   },
   "outputs": [],
   "source": [
    "MODEL_ARTIFACT_DIR = \"sklearn-cpr-preprocess-model-3\"  # @param {type:\"string\"}\n",
    "REPOSITORY = \"custom-preprocess-container-prediction-3\"  # @param {type:\"string\"}\n",
    "IMAGE = \"sklearn-cpr-preprocess-server-3\"  # @param {type:\"string\"}\n",
    "MODEL_DISPLAY_NAME = \"sklearn-cpr-preprocess-model-3\"  # @param {type:\"string\"}"
   ]
  },
  {
   "cell_type": "code",
   "execution_count": 1133,
   "id": "f9fa7168-8102-46b7-bfa2-02e1ebbcc250",
   "metadata": {
    "tags": []
   },
   "outputs": [],
   "source": [
    "BUCKET_NAME = \"gcp_asia\"  # @param {type:\"string\"}\n",
    "BUCKET_URI = f\"gs://{BUCKET_NAME}\""
   ]
  },
  {
   "cell_type": "code",
   "execution_count": 1134,
   "id": "bdfd21c5-97fa-4614-9747-950ec4fb9a4c",
   "metadata": {
    "tags": []
   },
   "outputs": [],
   "source": [
    "#! gsutil mb -l REGION -PROJECT_ID $BUCKET_URI"
   ]
  },
  {
   "cell_type": "code",
   "execution_count": 1135,
   "id": "66314194-b8b8-4c93-bda3-ce6065828ebb",
   "metadata": {
    "tags": []
   },
   "outputs": [],
   "source": [
    "#! gsutil ls -al $BUCKET_URI"
   ]
  },
  {
   "cell_type": "code",
   "execution_count": 1136,
   "id": "46176ff4-3a83-4167-9106-8d2a1fdd7b67",
   "metadata": {},
   "outputs": [],
   "source": [
    "USER_SRC_DIR = \"src_dir_3\"  # @param {type:\"string\"}\n",
    "LOCAL_MODEL_ARTIFACTS_DIR = \"model_artifacts_3\"  # @param {type:\"string\"}"
   ]
  },
  {
   "cell_type": "code",
   "execution_count": 1137,
   "id": "13f16e83-7afd-4b0b-aa54-e1c581e4ab86",
   "metadata": {
    "tags": []
   },
   "outputs": [],
   "source": [
    "#%mkdir $USER_SRC_DIR $LOCAL_MODEL_ARTIFACTS_DIR"
   ]
  },
  {
   "cell_type": "code",
   "execution_count": 1138,
   "id": "95f5493b-ed64-476d-8cef-45ebf5765557",
   "metadata": {
    "tags": []
   },
   "outputs": [],
   "source": [
    "#%%writefile $USER_SRC_DIR/preprocess.py\n",
    "import numpy as np\n",
    "\n",
    "class MySimpleScaler(object):\n",
    "    def __init__(self):\n",
    "        self._means = None\n",
    "        self._stds = None\n",
    "\n",
    "    def preprocess(self, data):\n",
    "        if self._means is None:  # during training only\n",
    "            self._means = np.mean(data, axis=0)\n",
    "\n",
    "        if self._stds is None:  # during training only\n",
    "            self._stds = np.std(data, axis=0)\n",
    "            if not self._stds.all():\n",
    "                raise ValueError(\"At least one column has standard deviation of 0.\")\n",
    "\n",
    "        return (data - self._means) / self._stds"
   ]
  },
  {
   "cell_type": "code",
   "execution_count": 1139,
   "id": "7a06d05a-2f81-4ce6-9999-cad2034951d1",
   "metadata": {
    "tags": []
   },
   "outputs": [
    {
     "name": "stdout",
     "output_type": "stream",
     "text": [
      "/home/jupyter/src_dir_3\n"
     ]
    },
    {
     "data": {
      "text/html": [
       "<style>#sk-container-id-2 {color: black;}#sk-container-id-2 pre{padding: 0;}#sk-container-id-2 div.sk-toggleable {background-color: white;}#sk-container-id-2 label.sk-toggleable__label {cursor: pointer;display: block;width: 100%;margin-bottom: 0;padding: 0.3em;box-sizing: border-box;text-align: center;}#sk-container-id-2 label.sk-toggleable__label-arrow:before {content: \"▸\";float: left;margin-right: 0.25em;color: #696969;}#sk-container-id-2 label.sk-toggleable__label-arrow:hover:before {color: black;}#sk-container-id-2 div.sk-estimator:hover label.sk-toggleable__label-arrow:before {color: black;}#sk-container-id-2 div.sk-toggleable__content {max-height: 0;max-width: 0;overflow: hidden;text-align: left;background-color: #f0f8ff;}#sk-container-id-2 div.sk-toggleable__content pre {margin: 0.2em;color: black;border-radius: 0.25em;background-color: #f0f8ff;}#sk-container-id-2 input.sk-toggleable__control:checked~div.sk-toggleable__content {max-height: 200px;max-width: 100%;overflow: auto;}#sk-container-id-2 input.sk-toggleable__control:checked~label.sk-toggleable__label-arrow:before {content: \"▾\";}#sk-container-id-2 div.sk-estimator input.sk-toggleable__control:checked~label.sk-toggleable__label {background-color: #d4ebff;}#sk-container-id-2 div.sk-label input.sk-toggleable__control:checked~label.sk-toggleable__label {background-color: #d4ebff;}#sk-container-id-2 input.sk-hidden--visually {border: 0;clip: rect(1px 1px 1px 1px);clip: rect(1px, 1px, 1px, 1px);height: 1px;margin: -1px;overflow: hidden;padding: 0;position: absolute;width: 1px;}#sk-container-id-2 div.sk-estimator {font-family: monospace;background-color: #f0f8ff;border: 1px dotted black;border-radius: 0.25em;box-sizing: border-box;margin-bottom: 0.5em;}#sk-container-id-2 div.sk-estimator:hover {background-color: #d4ebff;}#sk-container-id-2 div.sk-parallel-item::after {content: \"\";width: 100%;border-bottom: 1px solid gray;flex-grow: 1;}#sk-container-id-2 div.sk-label:hover label.sk-toggleable__label {background-color: #d4ebff;}#sk-container-id-2 div.sk-serial::before {content: \"\";position: absolute;border-left: 1px solid gray;box-sizing: border-box;top: 0;bottom: 0;left: 50%;z-index: 0;}#sk-container-id-2 div.sk-serial {display: flex;flex-direction: column;align-items: center;background-color: white;padding-right: 0.2em;padding-left: 0.2em;position: relative;}#sk-container-id-2 div.sk-item {position: relative;z-index: 1;}#sk-container-id-2 div.sk-parallel {display: flex;align-items: stretch;justify-content: center;background-color: white;position: relative;}#sk-container-id-2 div.sk-item::before, #sk-container-id-2 div.sk-parallel-item::before {content: \"\";position: absolute;border-left: 1px solid gray;box-sizing: border-box;top: 0;bottom: 0;left: 50%;z-index: -1;}#sk-container-id-2 div.sk-parallel-item {display: flex;flex-direction: column;z-index: 1;position: relative;background-color: white;}#sk-container-id-2 div.sk-parallel-item:first-child::after {align-self: flex-end;width: 50%;}#sk-container-id-2 div.sk-parallel-item:last-child::after {align-self: flex-start;width: 50%;}#sk-container-id-2 div.sk-parallel-item:only-child::after {width: 0;}#sk-container-id-2 div.sk-dashed-wrapped {border: 1px dashed gray;margin: 0 0.4em 0.5em 0.4em;box-sizing: border-box;padding-bottom: 0.4em;background-color: white;}#sk-container-id-2 div.sk-label label {font-family: monospace;font-weight: bold;display: inline-block;line-height: 1.2em;}#sk-container-id-2 div.sk-label-container {text-align: center;}#sk-container-id-2 div.sk-container {/* jupyter's `normalize.less` sets `[hidden] { display: none; }` but bootstrap.min.css set `[hidden] { display: none !important; }` so we also need the `!important` here to be able to override the default hidden behavior on the sphinx rendered scikit-learn.org. See: https://github.com/scikit-learn/scikit-learn/issues/21755 */display: inline-block !important;position: relative;}#sk-container-id-2 div.sk-text-repr-fallback {display: none;}</style><div id=\"sk-container-id-2\" class=\"sk-top-container\"><div class=\"sk-text-repr-fallback\"><pre>RandomForestClassifier()</pre><b>In a Jupyter environment, please rerun this cell to show the HTML representation or trust the notebook. <br />On GitHub, the HTML representation is unable to render, please try loading this page with nbviewer.org.</b></div><div class=\"sk-container\" hidden><div class=\"sk-item\"><div class=\"sk-estimator sk-toggleable\"><input class=\"sk-toggleable__control sk-hidden--visually\" id=\"sk-estimator-id-2\" type=\"checkbox\" checked><label for=\"sk-estimator-id-2\" class=\"sk-toggleable__label sk-toggleable__label-arrow\">RandomForestClassifier</label><div class=\"sk-toggleable__content\"><pre>RandomForestClassifier()</pre></div></div></div></div></div>"
      ],
      "text/plain": [
       "RandomForestClassifier()"
      ]
     },
     "execution_count": 1139,
     "metadata": {},
     "output_type": "execute_result"
    }
   ],
   "source": [
    "%cd $USER_SRC_DIR/\n",
    "\n",
    "import pickle\n",
    "\n",
    "import joblib\n",
    "from preprocess import MySimpleScaler\n",
    "from sklearn.datasets import load_iris\n",
    "from sklearn.ensemble import RandomForestClassifier\n",
    "from sklearn.preprocessing import FunctionTransformer\n",
    "from sklearn.base import BaseEstimator, TransformerMixin\n",
    "import numpy as np\n",
    "\n",
    "iris = load_iris()\n",
    "scaler = MySimpleScaler()\n",
    "\n",
    "X = scaler.preprocess(iris.data)\n",
    "y = iris.target\n",
    "\n",
    "model = RandomForestClassifier()\n",
    "model.fit(X, y)\n",
    "\n",
    "#joblib.dump(model, f\"../{LOCAL_MODEL_ARTIFACTS_DIR}/model.joblib\")\n",
    "#with open(f\"../{LOCAL_MODEL_ARTIFACTS_DIR}/preprocessor.pkl\", \"wb\") as f:\n",
    "#    pickle.dump(scaler, f)"
   ]
  },
  {
   "cell_type": "code",
   "execution_count": 1140,
   "id": "40f0725b-dd3b-4bd0-acad-f3c65150b909",
   "metadata": {
    "tags": []
   },
   "outputs": [
    {
     "name": "stdout",
     "output_type": "stream",
     "text": [
      "/home/jupyter\n",
      "CommandException: No URLs matched: model_artifacts_3/*\n",
      "CommandException: One or more URLs matched no objects.\n"
     ]
    }
   ],
   "source": [
    "%cd \n",
    "!gsutil cp {LOCAL_MODEL_ARTIFACTS_DIR}/* {BUCKET_URI}/{MODEL_ARTIFACT_DIR}/\n",
    "!gsutil ls {BUCKET_URI}/{MODEL_ARTIFACT_DIR}/"
   ]
  },
  {
   "cell_type": "code",
   "execution_count": 1155,
   "id": "a0c96f17-4f1d-4519-8009-3bd11074d3b8",
   "metadata": {
    "tags": []
   },
   "outputs": [
    {
     "name": "stdout",
     "output_type": "stream",
     "text": [
      "Overwriting src_dir_3/predictor.py\n"
     ]
    }
   ],
   "source": [
    "%%writefile $USER_SRC_DIR/predictor.py\n",
    "\n",
    "import joblib\n",
    "import numpy as np\n",
    "import pickle\n",
    "\n",
    "from google.cloud.aiplatform.prediction.sklearn.predictor import SklearnPredictor\n",
    "from google.cloud.aiplatform.utils import prediction_utils\n",
    "from google.cloud.aiplatform.prediction.handler import PredictionHandler\n",
    "from google.cloud.aiplatform.prediction.handler import Handler\n",
    "from google.cloud.aiplatform.prediction.predictor import Predictor\n",
    "from google.cloud.aiplatform.prediction.serializer import DefaultSerializer\n",
    "\n",
    "from sklearn.datasets import load_iris\n",
    "\n",
    "\n",
    "class CprPredictor(Predictor):\n",
    "    \n",
    "    def __init__(self):\n",
    "        return\n",
    "    \n",
    "    def load(self, artifacts_uri: str):\n",
    "        \"\"\"Loads the preprocessor and model artifacts.\"\"\"\n",
    "        #prediction_utils.download_model_artifacts(artifacts_uri)\n",
    "\n",
    "        #with open(\"preprocessor.pkl\", \"rb\") as f:\n",
    "        #    preprocessor = pickle.load(f)\n",
    "\n",
    "        self._class_names = load_iris().target_names\n",
    "        #self._model = joblib.load(\"model.joblib\")\n",
    "        #self._preprocessor = preprocessor\n",
    "\n",
    "    #def preprocess(self,instances):\n",
    "    #    instances = instances[\"instances\"]\n",
    "    #    inputs = np.asarray(instances)\n",
    "    #    preprocessed_inputs = self._preprocessor.preprocess(inputs)\n",
    "        \n",
    "    #    return inputs\n",
    "    \n",
    "    def predict(self, instances):\n",
    "        \"\"\"Performs prediction.\"\"\"\n",
    "        instances = instances[\"instances\"]\n",
    "        #inputs = np.asarray(instances)\n",
    "        inputs=instances\n",
    "        #preprocessed_inputs = self._preprocessor.preprocess(inputs)\n",
    "        preprocessed_inputs=inputs\n",
    "        #outputs = self._model.predict(preprocessed_inputs)\n",
    "\n",
    "        return {\"predictions\": [[item[0],sum(item),np.mean(item)] for item in preprocessed_inputs]}"
   ]
  },
  {
   "cell_type": "code",
   "execution_count": 1156,
   "id": "eacc9b3b-6ea1-4bfb-9add-9e99d739dc57",
   "metadata": {
    "tags": []
   },
   "outputs": [],
   "source": [
    "!cp requirements.txt $USER_SRC_DIR/requirements.txt"
   ]
  },
  {
   "cell_type": "code",
   "execution_count": 1157,
   "id": "4b57acd3-4c99-4e53-8493-d980c292bf04",
   "metadata": {
    "tags": []
   },
   "outputs": [
    {
     "name": "stdout",
     "output_type": "stream",
     "text": [
      "Updated property [core/project].\n"
     ]
    }
   ],
   "source": [
    "! gcloud config set project $PROJECT_ID"
   ]
  },
  {
   "cell_type": "code",
   "execution_count": 1158,
   "id": "57262b54-e8e7-4569-ac1e-8dd9c00e5adb",
   "metadata": {
    "tags": []
   },
   "outputs": [
    {
     "name": "stderr",
     "output_type": "stream",
     "text": [
      "/opt/conda/lib/python3.10/subprocess.py:955: RuntimeWarning: line buffering (buffering=1) isn't supported in binary mode, the default buffer size will be used\n",
      "  self.stdin = io.open(p2cwrite, 'wb', bufsize)\n",
      "/opt/conda/lib/python3.10/subprocess.py:961: RuntimeWarning: line buffering (buffering=1) isn't supported in binary mode, the default buffer size will be used\n",
      "  self.stdout = io.open(c2pread, 'rb', bufsize)\n"
     ]
    }
   ],
   "source": [
    "import os\n",
    "\n",
    "from google.cloud.aiplatform.prediction import LocalModel\n",
    "from src_dir_3.predictor import CprPredictor\n",
    "from google.cloud.aiplatform.prediction.handler import PredictionHandler\n",
    "# Update this path as the variable $USER_SRC_DIR to import the custom predictor.\n",
    "\n",
    "local_model = LocalModel.build_cpr_model(\n",
    "    USER_SRC_DIR,\n",
    "    f\"{REGION}-docker.pkg.dev/{PROJECT_ID}/{REPOSITORY}/{IMAGE}\",\n",
    "    base_image= \"python:3.10\",\n",
    "    predictor=CprPredictor,\n",
    "    requirements_path=os.path.join(USER_SRC_DIR, \"requirements.txt\"),\n",
    ")"
   ]
  },
  {
   "cell_type": "code",
   "execution_count": 1159,
   "id": "cb555ebc-2d1d-4d04-93cd-6b4ffe5258a8",
   "metadata": {
    "tags": []
   },
   "outputs": [
    {
     "data": {
      "text/plain": [
       "image_uri: \"asia-southeast1-docker.pkg.dev/teak-store-392915/custom-preprocess-container-prediction-3/sklearn-cpr-preprocess-server-3\"\n",
       "predict_route: \"/predict\"\n",
       "health_route: \"/health\""
      ]
     },
     "execution_count": 1159,
     "metadata": {},
     "output_type": "execute_result"
    }
   ],
   "source": [
    "local_model.get_serving_container_spec()"
   ]
  },
  {
   "cell_type": "code",
   "execution_count": 1160,
   "id": "d786ded0-9cb4-42f9-9b50-bc79bf422559",
   "metadata": {
    "tags": []
   },
   "outputs": [],
   "source": [
    "INPUT_FILE = \"instances.json\""
   ]
  },
  {
   "cell_type": "code",
   "execution_count": 1161,
   "id": "29299dd6-ca5b-490d-ae80-997125d73b37",
   "metadata": {
    "tags": []
   },
   "outputs": [
    {
     "name": "stdout",
     "output_type": "stream",
     "text": [
      "Overwriting instances.json\n"
     ]
    }
   ],
   "source": [
    "%%writefile $INPUT_FILE\n",
    "{\n",
    "    \"instances\": [\n",
    "        [6.7, 3.1, 4.7, 1.5],\n",
    "        [4.6, 3.1, 1.5, 0.2]\n",
    "    ]\n",
    "}"
   ]
  },
  {
   "cell_type": "code",
   "execution_count": 1162,
   "id": "8488608c-ec8e-4b2a-a811-584e4d556168",
   "metadata": {
    "tags": []
   },
   "outputs": [],
   "source": [
    "#!gcloud services list"
   ]
  },
  {
   "cell_type": "code",
   "execution_count": 1163,
   "id": "d6a124f0-f78e-4acb-88fb-566cbe44d731",
   "metadata": {
    "tags": []
   },
   "outputs": [
    {
     "name": "stdout",
     "output_type": "stream",
     "text": [
      "Create request issued for: [custom-preprocess-container-prediction-3]\n",
      "Waiting for operation [projects/teak-store-392915/locations/asia-southeast1/ope\n",
      "rations/4cf7c187-42ca-4a47-815a-d1462bd33604] to complete...done.              \n",
      "Created repository [custom-preprocess-container-prediction-3].\n"
     ]
    }
   ],
   "source": [
    "!gcloud artifacts repositories create {REPOSITORY} \\\n",
    "    --repository-format=docker \\\n",
    "    --location=$REGION"
   ]
  },
  {
   "cell_type": "code",
   "execution_count": 1164,
   "id": "d4dfb407-0959-40d9-9f3a-b2c67838f2b5",
   "metadata": {
    "tags": []
   },
   "outputs": [
    {
     "name": "stdout",
     "output_type": "stream",
     "text": [
      "\u001b[1;33mWARNING:\u001b[0m Your config file at [/home/jupyter/.docker/config.json] contains these credential helper entries:\n",
      "\n",
      "{\n",
      "  \"credHelpers\": {\n",
      "    \"gcr.io\": \"gcloud\",\n",
      "    \"us.gcr.io\": \"gcloud\",\n",
      "    \"eu.gcr.io\": \"gcloud\",\n",
      "    \"asia.gcr.io\": \"gcloud\",\n",
      "    \"staging-k8s.gcr.io\": \"gcloud\",\n",
      "    \"marketplace.gcr.io\": \"gcloud\",\n",
      "    \"asia-southeast1-docker.pkg.dev\": \"gcloud\"\n",
      "  }\n",
      "}\n",
      "Adding credentials for: asia-southeast1-docker.pkg.dev\n",
      "gcloud credential helpers already registered correctly.\n"
     ]
    }
   ],
   "source": [
    "!gcloud auth configure-docker {REGION}-docker.pkg.dev --quiet"
   ]
  },
  {
   "cell_type": "code",
   "execution_count": 1165,
   "id": "4a3ac983-4065-46ff-b68a-15c3cc860c79",
   "metadata": {
    "tags": []
   },
   "outputs": [
    {
     "name": "stderr",
     "output_type": "stream",
     "text": [
      "/opt/conda/lib/python3.10/subprocess.py:955: RuntimeWarning: line buffering (buffering=1) isn't supported in binary mode, the default buffer size will be used\n",
      "  self.stdin = io.open(p2cwrite, 'wb', bufsize)\n",
      "/opt/conda/lib/python3.10/subprocess.py:961: RuntimeWarning: line buffering (buffering=1) isn't supported in binary mode, the default buffer size will be used\n",
      "  self.stdout = io.open(c2pread, 'rb', bufsize)\n"
     ]
    }
   ],
   "source": [
    "local_model.push_image()"
   ]
  },
  {
   "cell_type": "code",
   "execution_count": 1166,
   "id": "20e880cf-a0f3-42d1-9302-935f3c7e3701",
   "metadata": {
    "tags": []
   },
   "outputs": [],
   "source": [
    "from google.cloud import aiplatform\n",
    "aiplatform.init(project=PROJECT_ID, location=REGION)\n"
   ]
  },
  {
   "cell_type": "code",
   "execution_count": 1167,
   "id": "d0d89243-520e-48e1-8c0e-e254d6b386ff",
   "metadata": {
    "tags": []
   },
   "outputs": [
    {
     "name": "stdout",
     "output_type": "stream",
     "text": [
      "Creating Model\n",
      "Create Model backing LRO: projects/958509004100/locations/asia-southeast1/models/8144381694099587072/operations/6397472122330939392\n",
      "Model created. Resource name: projects/958509004100/locations/asia-southeast1/models/8144381694099587072@1\n",
      "To use this Model in another session:\n",
      "model = aiplatform.Model('projects/958509004100/locations/asia-southeast1/models/8144381694099587072@1')\n"
     ]
    }
   ],
   "source": [
    "model = aiplatform.Model.upload(\n",
    "    local_model=local_model,\n",
    "    display_name=MODEL_DISPLAY_NAME,\n",
    "    #artifact_uri=f\"{BUCKET_URI}/{MODEL_ARTIFACT_DIR}\",\n",
    ")\n"
   ]
  },
  {
   "cell_type": "code",
   "execution_count": 1168,
   "id": "abc4b265-0200-4e5e-98b1-42b6a90ff2f0",
   "metadata": {
    "tags": []
   },
   "outputs": [],
   "source": [
    "#endpoint = model.deploy(machine_type=\"n1-standard-2\")"
   ]
  }
 ],
 "metadata": {
  "environment": {
   "kernel": "python3",
   "name": "tf2-cpu.2-11.m114",
   "type": "gcloud",
   "uri": "gcr.io/deeplearning-platform-release/tf2-cpu.2-11:m114"
  },
  "kernelspec": {
   "display_name": "Python 3",
   "language": "python",
   "name": "python3"
  },
  "language_info": {
   "codemirror_mode": {
    "name": "ipython",
    "version": 3
   },
   "file_extension": ".py",
   "mimetype": "text/x-python",
   "name": "python",
   "nbconvert_exporter": "python",
   "pygments_lexer": "ipython3",
   "version": "3.10.13"
  }
 },
 "nbformat": 4,
 "nbformat_minor": 5
}
