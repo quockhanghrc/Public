{
 "cells": [
  {
   "cell_type": "markdown",
   "metadata": {},
   "source": [
    "## Learning pyspark\n",
    "Just basic function of pyspark to show how to utilize this data processing method  \n",
    "I also integrated with git functions for version control"
   ]
  },
  {
   "cell_type": "code",
   "execution_count": 4,
   "metadata": {},
   "outputs": [
    {
     "name": "stderr",
     "output_type": "stream",
     "text": [
      "WARNING: Ignoring invalid distribution -lflow (d:\\anaconda\\lib\\site-packages)\n",
      "WARNING: Ignoring invalid distribution -lflow (d:\\anaconda\\lib\\site-packages)\n",
      "WARNING: Ignoring invalid distribution -lflow (d:\\anaconda\\lib\\site-packages)\n",
      "    WARNING: Ignoring invalid distribution -lflow (d:\\anaconda\\lib\\site-packages)\n",
      "WARNING: Ignoring invalid distribution -lflow (d:\\anaconda\\lib\\site-packages)\n",
      "WARNING: Ignoring invalid distribution -lflow (d:\\anaconda\\lib\\site-packages)\n",
      "WARNING: Ignoring invalid distribution -lflow (d:\\anaconda\\lib\\site-packages)\n",
      "WARNING: Ignoring invalid distribution -lflow (d:\\anaconda\\lib\\site-packages)\n",
      "WARNING: Ignoring invalid distribution -lflow (d:\\anaconda\\lib\\site-packages)\n"
     ]
    },
    {
     "name": "stdout",
     "output_type": "stream",
     "text": [
      "Collecting pyspark\n",
      "  Downloading pyspark-3.5.4.tar.gz (317.3 MB)\n",
      "     -------------------------------------- 317.3/317.3 MB 1.1 MB/s eta 0:00:00\n",
      "  Preparing metadata (setup.py): started\n",
      "  Preparing metadata (setup.py): finished with status 'done'\n",
      "Collecting py4j==0.10.9.7\n",
      "  Downloading py4j-0.10.9.7-py2.py3-none-any.whl (200 kB)\n",
      "     ------------------------------------ 200.5/200.5 kB 393.1 kB/s eta 0:00:00\n",
      "Building wheels for collected packages: pyspark\n",
      "  Building wheel for pyspark (setup.py): started\n",
      "  Building wheel for pyspark (setup.py): still running...\n",
      "  Building wheel for pyspark (setup.py): finished with status 'done'\n",
      "  Created wheel for pyspark: filename=pyspark-3.5.4-py2.py3-none-any.whl size=317849816 sha256=cafaf667e5a3fb0e96fb08c750b336c36800d3bd4389b7a381c36af255762639\n",
      "  Stored in directory: c:\\users\\khang_\\appdata\\local\\pip\\cache\\wheels\\1a\\ce\\a4\\94a21408027efb9651508706a4172b868f507f51a938c4636a\n",
      "Successfully built pyspark\n",
      "Installing collected packages: py4j, pyspark\n",
      "  Attempting uninstall: py4j\n",
      "    Found existing installation: py4j 0.10.9.9\n",
      "    Uninstalling py4j-0.10.9.9:\n",
      "      Successfully uninstalled py4j-0.10.9.9\n",
      "Successfully installed py4j-0.10.9.7 pyspark-3.5.4\n",
      "Collecting pyspark\n",
      "  Using cached pyspark-3.5.4-py2.py3-none-any.whl\n",
      "Collecting py4j==0.10.9.7\n",
      "  Using cached py4j-0.10.9.7-py2.py3-none-any.whl (200 kB)\n",
      "Installing collected packages: py4j, pyspark\n",
      "  Attempting uninstall: py4j\n",
      "    Found existing installation: py4j 0.10.9.9\n",
      "    Can't uninstall 'py4j'. No files were found to uninstall.\n",
      "Successfully installed py4j-0.10.9.7 pyspark-3.5.4\n"
     ]
    },
    {
     "name": "stderr",
     "output_type": "stream",
     "text": [
      "WARNING: Ignoring invalid distribution -lflow (d:\\anaconda\\lib\\site-packages)\n",
      "WARNING: Ignoring invalid distribution -lflow (d:\\anaconda\\lib\\site-packages)\n",
      "WARNING: Ignoring invalid distribution -lflow (d:\\anaconda\\lib\\site-packages)\n",
      "WARNING: Error parsing requirements for py4j: [Errno 2] No such file or directory: 'd:\\\\anaconda\\\\lib\\\\site-packages\\\\py4j-0.10.9.9.dist-info\\\\METADATA'\n",
      "    WARNING: Ignoring invalid distribution -lflow (d:\\anaconda\\lib\\site-packages)\n",
      "    WARNING: No metadata found in d:\\anaconda\\lib\\site-packages\n",
      "WARNING: Ignoring invalid distribution -lflow (d:\\anaconda\\lib\\site-packages)\n",
      "WARNING: Ignoring invalid distribution -lflow (d:\\anaconda\\lib\\site-packages)\n",
      "WARNING: Ignoring invalid distribution -lflow (d:\\anaconda\\lib\\site-packages)\n",
      "WARNING: Ignoring invalid distribution -lflow (d:\\anaconda\\lib\\site-packages)\n",
      "WARNING: Ignoring invalid distribution -lflow (d:\\anaconda\\lib\\site-packages)\n"
     ]
    }
   ],
   "source": [
    "!pip install pyspark"
   ]
  },
  {
   "cell_type": "code",
   "execution_count": 3,
   "metadata": {},
   "outputs": [
    {
     "ename": "ModuleNotFoundError",
     "evalue": "No module named 'pyspark'",
     "output_type": "error",
     "traceback": [
      "\u001b[1;31m---------------------------------------------------------------------------\u001b[0m",
      "\u001b[1;31mModuleNotFoundError\u001b[0m                       Traceback (most recent call last)",
      "Cell \u001b[1;32mIn[3], line 1\u001b[0m\n\u001b[1;32m----> 1\u001b[0m \u001b[38;5;28;01mimport\u001b[39;00m\u001b[38;5;250m \u001b[39m\u001b[38;5;21;01mpyspark\u001b[39;00m\n",
      "\u001b[1;31mModuleNotFoundError\u001b[0m: No module named 'pyspark'"
     ]
    }
   ],
   "source": [
    "import pyspark"
   ]
  }
 ],
 "metadata": {
  "kernelspec": {
   "display_name": "base",
   "language": "python",
   "name": "python3"
  },
  "language_info": {
   "codemirror_mode": {
    "name": "ipython",
    "version": 3
   },
   "file_extension": ".py",
   "mimetype": "text/x-python",
   "name": "python",
   "nbconvert_exporter": "python",
   "pygments_lexer": "ipython3",
   "version": "3.10.9"
  }
 },
 "nbformat": 4,
 "nbformat_minor": 2
}
