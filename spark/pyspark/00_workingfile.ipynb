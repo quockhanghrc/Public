{
 "cells": [
  {
   "cell_type": "code",
   "execution_count": 1,
   "id": "5bd4f429",
   "metadata": {},
   "outputs": [],
   "source": [
    "# Standard library imports\n",
    "import os\n",
    "from typing import List, Union, Optional\n",
    "\n",
    "# PySpark SQL imports for data types and structures\n",
    "from pyspark.sql import SparkSession, DataFrame\n",
    "from pyspark.sql.types import StructType, StructField, StringType, DoubleType, LongType\n",
    "\n",
    "# PySpark SQL imports for functions\n",
    "from pyspark.sql.functions import col"
   ]
  },
  {
   "cell_type": "markdown",
   "id": "19305588",
   "metadata": {},
   "source": [
    "### Do some data manipulations on PySpark "
   ]
  },
  {
   "cell_type": "code",
   "execution_count": 2,
   "id": "e094faa9",
   "metadata": {},
   "outputs": [],
   "source": [
    "# Step 1: Import the necessary library\n",
    "from pyspark.sql import SparkSession"
   ]
  },
  {
   "cell_type": "code",
   "execution_count": 3,
   "id": "7acba6d8",
   "metadata": {},
   "outputs": [
    {
     "name": "stdout",
     "output_type": "stream",
     "text": [
      "SparkSession created successfully. Spark version: 3.5.4\n"
     ]
    }
   ],
   "source": [
    "# Step 2: Create a SparkSession\n",
    "# The SparkSession is the entry point to any Spark functionality.\n",
    "# .appName() gives your application a name in the Spark UI.\n",
    "# .getOrCreate() gets an existing session or creates a new one if none exists.\n",
    "spark = SparkSession.builder \\\n",
    "    .config(\"spark.driver.memory\", \"4g\") \\\n",
    "    .appName(\"ReadSimpleParquet\") \\\n",
    "    .config(\"spark.driver.host\", \"127.0.0.1\") \\\n",
    "    .getOrCreate()\n",
    "\n",
    "print(f\"SparkSession created successfully. Spark version: {spark.version}\")"
   ]
  },
  {
   "cell_type": "code",
   "execution_count": 4,
   "id": "4f4390de",
   "metadata": {},
   "outputs": [
    {
     "name": "stdout",
     "output_type": "stream",
     "text": [
      "--- All Spark Configurations ---\n",
      "spark.app.id: local-1750692345921\n",
      "spark.app.name: ReadSimpleParquet\n",
      "spark.app.startTime: 1750692344286\n",
      "spark.app.submitTime: 1750692344038\n",
      "spark.driver.extraJavaOptions: -Djava.net.preferIPv6Addresses=false -XX:+IgnoreUnrecognizedVMOptions --add-opens=java.base/java.lang=ALL-UNNAMED --add-opens=java.base/java.lang.invoke=ALL-UNNAMED --add-opens=java.base/java.lang.reflect=ALL-UNNAMED --add-opens=java.base/java.io=ALL-UNNAMED --add-opens=java.base/java.net=ALL-UNNAMED --add-opens=java.base/java.nio=ALL-UNNAMED --add-opens=java.base/java.util=ALL-UNNAMED --add-opens=java.base/java.util.concurrent=ALL-UNNAMED --add-opens=java.base/java.util.concurrent.atomic=ALL-UNNAMED --add-opens=java.base/jdk.internal.ref=ALL-UNNAMED --add-opens=java.base/sun.nio.ch=ALL-UNNAMED --add-opens=java.base/sun.nio.cs=ALL-UNNAMED --add-opens=java.base/sun.security.action=ALL-UNNAMED --add-opens=java.base/sun.util.calendar=ALL-UNNAMED --add-opens=java.security.jgss/sun.security.krb5=ALL-UNNAMED -Djdk.reflect.useDirectMethodHandle=false\n",
      "spark.driver.host: 127.0.0.1\n",
      "spark.driver.memory: 4g\n",
      "spark.driver.port: 54744\n",
      "spark.executor.extraJavaOptions: -Djava.net.preferIPv6Addresses=false -XX:+IgnoreUnrecognizedVMOptions --add-opens=java.base/java.lang=ALL-UNNAMED --add-opens=java.base/java.lang.invoke=ALL-UNNAMED --add-opens=java.base/java.lang.reflect=ALL-UNNAMED --add-opens=java.base/java.io=ALL-UNNAMED --add-opens=java.base/java.net=ALL-UNNAMED --add-opens=java.base/java.nio=ALL-UNNAMED --add-opens=java.base/java.util=ALL-UNNAMED --add-opens=java.base/java.util.concurrent=ALL-UNNAMED --add-opens=java.base/java.util.concurrent.atomic=ALL-UNNAMED --add-opens=java.base/jdk.internal.ref=ALL-UNNAMED --add-opens=java.base/sun.nio.ch=ALL-UNNAMED --add-opens=java.base/sun.nio.cs=ALL-UNNAMED --add-opens=java.base/sun.security.action=ALL-UNNAMED --add-opens=java.base/sun.util.calendar=ALL-UNNAMED --add-opens=java.security.jgss/sun.security.krb5=ALL-UNNAMED -Djdk.reflect.useDirectMethodHandle=false\n",
      "spark.executor.id: driver\n",
      "spark.master: local[*]\n",
      "spark.rdd.compress: True\n",
      "spark.serializer.objectStreamReset: 100\n",
      "spark.submit.deployMode: client\n",
      "spark.submit.pyFiles: \n",
      "spark.ui.showConsoleProgress: true\n"
     ]
    }
   ],
   "source": [
    "# Get all configurations\n",
    "all_configs = spark.sparkContext.getConf().getAll()\n",
    "\n",
    "# Print them out nicely\n",
    "print(\"--- All Spark Configurations ---\")\n",
    "for conf in sorted(all_configs):\n",
    "    print(f\"{conf[0]}: {conf[1]}\")"
   ]
  },
  {
   "cell_type": "markdown",
   "id": "631145ed",
   "metadata": {},
   "source": [
    "### Read df "
   ]
  },
  {
   "cell_type": "code",
   "execution_count": 3,
   "id": "b7d1564e",
   "metadata": {},
   "outputs": [
    {
     "name": "stdout",
     "output_type": "stream",
     "text": [
      "\n",
      "Attempting to read Parquet file from: Combined_Flights_2019.parquet\n",
      "\n",
      "ERROR: Could not read the file. Please check the path and file integrity.\n",
      "Details: [UNABLE_TO_INFER_SCHEMA] Unable to infer schema for Parquet. It must be specified manually.\n",
      "\n",
      "Stopping the SparkSession.\n"
     ]
    }
   ],
   "source": [
    "parquet_path = \"Combined_Flights_2019.parquet\"\n",
    "\n",
    "# Step 4: Read the Parquet file into a Spark DataFrame\n",
    "print(f\"\\nAttempting to read Parquet file from: {parquet_path}\")\n",
    "\n",
    "try:\n",
    "    # spark.read.parquet() automatically infers the schema from the file.\n",
    "    # The result is a DataFrame, a distributed table-like data structure.\n",
    "    df = spark.read.parquet(parquet_path)\n",
    "\n",
    "    # Step 5: Verify the data has been loaded\n",
    "    print(\"\\nFile read successfully! Here is a summary of the DataFrame:\")\n",
    "\n",
    "    # 5a. Print the schema (column names and data types)\n",
    "    print(\"\\n--- DataFrame Schema ---\")\n",
    "    df.printSchema()\n",
    "\n",
    "    # 5b. Show the first 10 rows of the data\n",
    "    print(\"\\n--- DataFrame Content (Top 10 rows) ---\")\n",
    "    df.show(10)\n",
    "\n",
    "    # 5c. Show the total number of records\n",
    "    record_count = df.count()\n",
    "    print(f\"\\nTotal number of records found: {record_count}\")\n",
    "\n",
    "except Exception as e:\n",
    "    print(f\"\\nERROR: Could not read the file. Please check the path and file integrity.\")\n",
    "    print(f\"Details: {e}\")\n",
    "\n",
    "finally:\n",
    "    # Step 6: Stop the SparkSession to release cluster resources\n",
    "    print(\"\\nStopping the SparkSession.\")\n",
    "    spark.stop()"
   ]
  },
  {
   "cell_type": "code",
   "execution_count": 6,
   "id": "e7bd135d",
   "metadata": {},
   "outputs": [],
   "source": [
    "parquet_path = \"Combined_Flights_2019.parquet\""
   ]
  },
  {
   "cell_type": "code",
   "execution_count": 8,
   "id": "89f53ac5",
   "metadata": {},
   "outputs": [],
   "source": [
    "df = spark.read.parquet(parquet_path)"
   ]
  },
  {
   "cell_type": "code",
   "execution_count": 9,
   "id": "e088438e",
   "metadata": {},
   "outputs": [
    {
     "name": "stdout",
     "output_type": "stream",
     "text": [
      "+-------------------+---------+------+----+---------+--------+----------+-------+---------------+--------+-------+---------------+-------+--------------+-----------------+--------+----+-------+-----+----------+---------+-------------------------+---------------------------------------+------------------------+---------------------------+-------------------------------+-----------------+------------------------+---------------------------+-----------+-------------------------------+---------------+------------------+------------------+---------------+-----------+---------------+---------------+---------+-------------+----------------+----------------+------------+---------+-------------+-------------+-------+--------+--------------------+----------+-------+---------+--------+------+----------+--------+--------+------------------+----------+-------------+------------------+-----------------+\n",
      "|         FlightDate|  Airline|Origin|Dest|Cancelled|Diverted|CRSDepTime|DepTime|DepDelayMinutes|DepDelay|ArrTime|ArrDelayMinutes|AirTime|CRSElapsedTime|ActualElapsedTime|Distance|Year|Quarter|Month|DayofMonth|DayOfWeek|Marketing_Airline_Network|Operated_or_Branded_Code_Share_Partners|DOT_ID_Marketing_Airline|IATA_Code_Marketing_Airline|Flight_Number_Marketing_Airline|Operating_Airline|DOT_ID_Operating_Airline|IATA_Code_Operating_Airline|Tail_Number|Flight_Number_Operating_Airline|OriginAirportID|OriginAirportSeqID|OriginCityMarketID| OriginCityName|OriginState|OriginStateFips|OriginStateName|OriginWac|DestAirportID|DestAirportSeqID|DestCityMarketID|DestCityName|DestState|DestStateFips|DestStateName|DestWac|DepDel15|DepartureDelayGroups|DepTimeBlk|TaxiOut|WheelsOff|WheelsOn|TaxiIn|CRSArrTime|ArrDelay|ArrDel15|ArrivalDelayGroups|ArrTimeBlk|DistanceGroup|DivAirportLandings|__index_level_0__|\n",
      "+-------------------+---------+------+----+---------+--------+----------+-------+---------------+--------+-------+---------------+-------+--------------+-----------------+--------+----+-------+-----+----------+---------+-------------------------+---------------------------------------+------------------------+---------------------------+-------------------------------+-----------------+------------------------+---------------------------+-----------+-------------------------------+---------------+------------------+------------------+---------------+-----------+---------------+---------------+---------+-------------+----------------+----------------+------------+---------+-------------+-------------+-------+--------+--------------------+----------+-------+---------+--------+------+----------+--------+--------+------------------+----------+-------------+------------------+-----------------+\n",
      "|2019-04-01 00:00:00|Envoy Air|   LIT| ORD|    false|   false|      1212| 1209.0|            0.0|    -3.0| 1350.0|            0.0|   83.0|         113.0|            101.0|   552.0|2019|      2|    4|         1|        1|                       AA|                           AA_CODESHARE|                   19805|                         AA|                           3315|               MQ|                   20398|                         MQ|     N253NN|                           3315|          12992|           1299206|             32600|Little Rock, AR|         AR|              5|       Arkansas|       71|        13930|         1393007|           30977| Chicago, IL|       IL|           17|     Illinois|     41|     0.0|                -1.0| 1200-1259|   10.0|   1219.0|  1342.0|   8.0|      1405|   -15.0|     0.0|              -1.0| 1400-1459|            3|                 0|                0|\n",
      "|2019-04-02 00:00:00|Envoy Air|   LIT| ORD|    false|   false|      1212| 1200.0|            0.0|   -12.0| 1348.0|            0.0|   89.0|         113.0|            108.0|   552.0|2019|      2|    4|         2|        2|                       AA|                           AA_CODESHARE|                   19805|                         AA|                           3315|               MQ|                   20398|                         MQ|     N242NN|                           3315|          12992|           1299206|             32600|Little Rock, AR|         AR|              5|       Arkansas|       71|        13930|         1393007|           30977| Chicago, IL|       IL|           17|     Illinois|     41|     0.0|                -1.0| 1200-1259|   10.0|   1210.0|  1339.0|   9.0|      1405|   -17.0|     0.0|              -2.0| 1400-1459|            3|                 0|                1|\n",
      "|2019-04-03 00:00:00|Envoy Air|   LIT| ORD|    false|   false|      1212| 1203.0|            0.0|    -9.0| 1342.0|            0.0|   82.0|         113.0|             99.0|   552.0|2019|      2|    4|         3|        3|                       AA|                           AA_CODESHARE|                   19805|                         AA|                           3315|               MQ|                   20398|                         MQ|     N247NN|                           3315|          12992|           1299206|             32600|Little Rock, AR|         AR|              5|       Arkansas|       71|        13930|         1393007|           30977| Chicago, IL|       IL|           17|     Illinois|     41|     0.0|                -1.0| 1200-1259|   11.0|   1214.0|  1336.0|   6.0|      1405|   -23.0|     0.0|              -2.0| 1400-1459|            3|                 0|                2|\n",
      "|2019-04-04 00:00:00|Envoy Air|   LIT| ORD|    false|   false|      1212| 1435.0|          143.0|   143.0| 1621.0|          136.0|   83.0|         113.0|            106.0|   552.0|2019|      2|    4|         4|        4|                       AA|                           AA_CODESHARE|                   19805|                         AA|                           3315|               MQ|                   20398|                         MQ|     N220NN|                           3315|          12992|           1299206|             32600|Little Rock, AR|         AR|              5|       Arkansas|       71|        13930|         1393007|           30977| Chicago, IL|       IL|           17|     Illinois|     41|     1.0|                 9.0| 1200-1259|   17.0|   1452.0|  1615.0|   6.0|      1405|   136.0|     1.0|               9.0| 1400-1459|            3|                 0|                3|\n",
      "|2019-04-05 00:00:00|Envoy Air|   LIT| ORD|    false|   false|      1212| 1216.0|            4.0|     4.0| 1410.0|            5.0|   83.0|         113.0|            114.0|   552.0|2019|      2|    4|         5|        5|                       AA|                           AA_CODESHARE|                   19805|                         AA|                           3315|               MQ|                   20398|                         MQ|     N255NN|                           3315|          12992|           1299206|             32600|Little Rock, AR|         AR|              5|       Arkansas|       71|        13930|         1393007|           30977| Chicago, IL|       IL|           17|     Illinois|     41|     0.0|                 0.0| 1200-1259|   18.0|   1234.0|  1357.0|  13.0|      1405|     5.0|     0.0|               0.0| 1400-1459|            3|                 0|                4|\n",
      "|2019-04-06 00:00:00|Envoy Air|   LIT| ORD|    false|   false|      1212| 1305.0|           53.0|    53.0| 1501.0|           56.0|   90.0|         113.0|            116.0|   552.0|2019|      2|    4|         6|        6|                       AA|                           AA_CODESHARE|                   19805|                         AA|                           3315|               MQ|                   20398|                         MQ|     N269NN|                           3315|          12992|           1299206|             32600|Little Rock, AR|         AR|              5|       Arkansas|       71|        13930|         1393007|           30977| Chicago, IL|       IL|           17|     Illinois|     41|     1.0|                 3.0| 1200-1259|   13.0|   1318.0|  1448.0|  13.0|      1405|    56.0|     1.0|               3.0| 1400-1459|            3|                 0|                5|\n",
      "|2019-04-07 00:00:00|Envoy Air|   LIT| ORD|    false|   false|      1212| 1219.0|            7.0|     7.0| 1401.0|            0.0|   81.0|         113.0|            102.0|   552.0|2019|      2|    4|         7|        7|                       AA|                           AA_CODESHARE|                   19805|                         AA|                           3315|               MQ|                   20398|                         MQ|     N252NN|                           3315|          12992|           1299206|             32600|Little Rock, AR|         AR|              5|       Arkansas|       71|        13930|         1393007|           30977| Chicago, IL|       IL|           17|     Illinois|     41|     0.0|                 0.0| 1200-1259|   11.0|   1230.0|  1351.0|  10.0|      1405|    -4.0|     0.0|              -1.0| 1400-1459|            3|                 0|                6|\n",
      "|2019-04-08 00:00:00|Envoy Air|   LIT| ORD|    false|   false|      1212| 1222.0|           10.0|    10.0| 1416.0|           11.0|   90.0|         113.0|            114.0|   552.0|2019|      2|    4|         8|        1|                       AA|                           AA_CODESHARE|                   19805|                         AA|                           3315|               MQ|                   20398|                         MQ|     N266NN|                           3315|          12992|           1299206|             32600|Little Rock, AR|         AR|              5|       Arkansas|       71|        13930|         1393007|           30977| Chicago, IL|       IL|           17|     Illinois|     41|     0.0|                 0.0| 1200-1259|   12.0|   1234.0|  1404.0|  12.0|      1405|    11.0|     0.0|               0.0| 1400-1459|            3|                 0|                7|\n",
      "|2019-04-09 00:00:00|Envoy Air|   LIT| ORD|    false|   false|      1212| 1201.0|            0.0|   -11.0| 1355.0|            0.0|   86.0|         113.0|            114.0|   552.0|2019|      2|    4|         9|        2|                       AA|                           AA_CODESHARE|                   19805|                         AA|                           3315|               MQ|                   20398|                         MQ|     N242NN|                           3315|          12992|           1299206|             32600|Little Rock, AR|         AR|              5|       Arkansas|       71|        13930|         1393007|           30977| Chicago, IL|       IL|           17|     Illinois|     41|     0.0|                -1.0| 1200-1259|   13.0|   1214.0|  1340.0|  15.0|      1405|   -10.0|     0.0|              -1.0| 1400-1459|            3|                 0|                8|\n",
      "|2019-04-10 00:00:00|Envoy Air|   LIT| ORD|    false|   false|      1212| 1205.0|            0.0|    -7.0| 1412.0|            7.0|   86.0|         113.0|            127.0|   552.0|2019|      2|    4|        10|        3|                       AA|                           AA_CODESHARE|                   19805|                         AA|                           3315|               MQ|                   20398|                         MQ|     N258NN|                           3315|          12992|           1299206|             32600|Little Rock, AR|         AR|              5|       Arkansas|       71|        13930|         1393007|           30977| Chicago, IL|       IL|           17|     Illinois|     41|     0.0|                -1.0| 1200-1259|   13.0|   1218.0|  1344.0|  28.0|      1405|     7.0|     0.0|               0.0| 1400-1459|            3|                 0|                9|\n",
      "+-------------------+---------+------+----+---------+--------+----------+-------+---------------+--------+-------+---------------+-------+--------------+-----------------+--------+----+-------+-----+----------+---------+-------------------------+---------------------------------------+------------------------+---------------------------+-------------------------------+-----------------+------------------------+---------------------------+-----------+-------------------------------+---------------+------------------+------------------+---------------+-----------+---------------+---------------+---------+-------------+----------------+----------------+------------+---------+-------------+-------------+-------+--------+--------------------+----------+-------+---------+--------+------+----------+--------+--------+------------------+----------+-------------+------------------+-----------------+\n",
      "only showing top 10 rows\n",
      "\n"
     ]
    }
   ],
   "source": [
    "df.show(10)"
   ]
  },
  {
   "cell_type": "code",
   "execution_count": 15,
   "id": "63e9c901",
   "metadata": {},
   "outputs": [],
   "source": [
    "df_single_partition = df_converted.coalesce(1)"
   ]
  },
  {
   "cell_type": "code",
   "execution_count": 16,
   "id": "ad1d7b73",
   "metadata": {},
   "outputs": [],
   "source": [
    "df_single_partition.write.mode(\"overwrite\").parquet(\"flights_2019_fixed.parquet\")"
   ]
  },
  {
   "cell_type": "code",
   "execution_count": 11,
   "id": "48781d32",
   "metadata": {},
   "outputs": [],
   "source": [
    "df_converted = df.withColumn(\n",
    "    \"DivAirportLandings\",\n",
    "    col(\"DivAirportLandings\").cast(DoubleType())\n",
    ")"
   ]
  },
  {
   "cell_type": "code",
   "execution_count": 16,
   "id": "62dff9d2",
   "metadata": {},
   "outputs": [
    {
     "name": "stdout",
     "output_type": "stream",
     "text": [
      "root\n",
      " |-- FlightDate: timestamp_ntz (nullable = true)\n",
      " |-- Airline: string (nullable = true)\n",
      " |-- Origin: string (nullable = true)\n",
      " |-- Dest: string (nullable = true)\n",
      " |-- Cancelled: boolean (nullable = true)\n",
      " |-- Diverted: boolean (nullable = true)\n",
      " |-- CRSDepTime: long (nullable = true)\n",
      " |-- DepTime: double (nullable = true)\n",
      " |-- DepDelayMinutes: double (nullable = true)\n",
      " |-- DepDelay: double (nullable = true)\n",
      " |-- ArrTime: double (nullable = true)\n",
      " |-- ArrDelayMinutes: double (nullable = true)\n",
      " |-- AirTime: double (nullable = true)\n",
      " |-- CRSElapsedTime: double (nullable = true)\n",
      " |-- ActualElapsedTime: double (nullable = true)\n",
      " |-- Distance: double (nullable = true)\n",
      " |-- Year: long (nullable = true)\n",
      " |-- Quarter: long (nullable = true)\n",
      " |-- Month: long (nullable = true)\n",
      " |-- DayofMonth: long (nullable = true)\n",
      " |-- DayOfWeek: long (nullable = true)\n",
      " |-- Marketing_Airline_Network: string (nullable = true)\n",
      " |-- Operated_or_Branded_Code_Share_Partners: string (nullable = true)\n",
      " |-- DOT_ID_Marketing_Airline: long (nullable = true)\n",
      " |-- IATA_Code_Marketing_Airline: string (nullable = true)\n",
      " |-- Flight_Number_Marketing_Airline: long (nullable = true)\n",
      " |-- Operating_Airline: string (nullable = true)\n",
      " |-- DOT_ID_Operating_Airline: long (nullable = true)\n",
      " |-- IATA_Code_Operating_Airline: string (nullable = true)\n",
      " |-- Tail_Number: string (nullable = true)\n",
      " |-- Flight_Number_Operating_Airline: long (nullable = true)\n",
      " |-- OriginAirportID: long (nullable = true)\n",
      " |-- OriginAirportSeqID: long (nullable = true)\n",
      " |-- OriginCityMarketID: long (nullable = true)\n",
      " |-- OriginCityName: string (nullable = true)\n",
      " |-- OriginState: string (nullable = true)\n",
      " |-- OriginStateFips: long (nullable = true)\n",
      " |-- OriginStateName: string (nullable = true)\n",
      " |-- OriginWac: long (nullable = true)\n",
      " |-- DestAirportID: long (nullable = true)\n",
      " |-- DestAirportSeqID: long (nullable = true)\n",
      " |-- DestCityMarketID: long (nullable = true)\n",
      " |-- DestCityName: string (nullable = true)\n",
      " |-- DestState: string (nullable = true)\n",
      " |-- DestStateFips: long (nullable = true)\n",
      " |-- DestStateName: string (nullable = true)\n",
      " |-- DestWac: long (nullable = true)\n",
      " |-- DepDel15: double (nullable = true)\n",
      " |-- DepartureDelayGroups: double (nullable = true)\n",
      " |-- DepTimeBlk: string (nullable = true)\n",
      " |-- TaxiOut: double (nullable = true)\n",
      " |-- WheelsOff: double (nullable = true)\n",
      " |-- WheelsOn: double (nullable = true)\n",
      " |-- TaxiIn: double (nullable = true)\n",
      " |-- CRSArrTime: long (nullable = true)\n",
      " |-- ArrDelay: double (nullable = true)\n",
      " |-- ArrDel15: double (nullable = true)\n",
      " |-- ArrivalDelayGroups: double (nullable = true)\n",
      " |-- ArrTimeBlk: string (nullable = true)\n",
      " |-- DistanceGroup: long (nullable = true)\n",
      " |-- DivAirportLandings: long (nullable = true)\n",
      " |-- __index_level_0__: long (nullable = true)\n",
      "\n"
     ]
    }
   ],
   "source": [
    "df.printSchema()"
   ]
  },
  {
   "cell_type": "code",
   "execution_count": 5,
   "id": "eac44d3f",
   "metadata": {},
   "outputs": [],
   "source": [
    "\n",
    "def read_parquet_folder(\n",
    "    spark: SparkSession,\n",
    "    data_path: Union[str, List[str]],\n",
    "    golden_schema_path: Optional[str] = None\n",
    ") -> DataFrame:\n",
    "    \"\"\"\n",
    "    Reads all Parquet files from a folder, enforcing a single, consistent schema.\n",
    "\n",
    "    This function operates in two modes:\n",
    "    1.  Default (Auto-Detect Schema Mode): If `golden_schema_path` is not provided,\n",
    "        the function automatically discovers the first Parquet file within `data_path`\n",
    "        and uses its schema as the \"golden\" reference for reading all other files.\n",
    "        Warning: This behavior can be non-deterministic if files in the folder have\n",
    "        different schemas, as the \"first\" file discovered may vary.\n",
    "\n",
    "    2.  Explicit (Enforced Schema Mode): If `golden_schema_path` is provided,\n",
    "        the function will use that specific file's schema, providing full control\n",
    "        and deterministic behavior. This is the recommended approach for production.\n",
    "\n",
    "    Args:\n",
    "        spark (SparkSession): The active SparkSession.\n",
    "        data_path (Union[str, List[str]]): The path to the directory containing\n",
    "                                           all Parquet files, or a list of paths.\n",
    "        golden_schema_path (Optional[str], optional): Path to a specific reference\n",
    "                                           Parquet file to enforce its schema.\n",
    "                                           If None, a file will be auto-detected.\n",
    "\n",
    "    Returns:\n",
    "        DataFrame: A single Spark DataFrame with a consistently applied schema.\n",
    "                   \n",
    "    Raises:\n",
    "        ValueError: If `data_path` contains no Parquet files and auto-detection is used.\n",
    "        Exception: If any of the Spark read operations fail.\n",
    "    \"\"\"\n",
    "    print(\"--- Reading Parquet folder with enforced schema ---\")\n",
    "    schema_source_path: str\n",
    "    \n",
    "    try:\n",
    "        if golden_schema_path:\n",
    "            #print(f\"Mode: Using explicit golden file provided by user: {golden_schema_path}\")\n",
    "            schema_source_path = golden_schema_path\n",
    "        else:\n",
    "            #print(f\"Mode: Auto-detecting schema from the first file in: {data_path}\")\n",
    "            # This is a lazy operation, it doesn't read the whole file yet.\n",
    "            temp_df_for_discovery = spark.read.parquet(data_path)\n",
    "            input_files = temp_df_for_discovery.inputFiles()\n",
    "            if not input_files:\n",
    "                raise ValueError(f\"Could not find any Parquet files in the path: {data_path}\")\n",
    "            schema_source_path = input_files[0]\n",
    "            #print(f\"   -> Automatically selected '{os.path.basename(schema_source_path)}' as the schema source.\")\n",
    "\n",
    "        #print(f\"\\nExtracting schema from: {os.path.basename(schema_source_path)}\")\n",
    "        # Read the source file into a temporary DataFrame to access its schema AND methods\n",
    "        df_with_golden_schema = spark.read.parquet(schema_source_path)\n",
    "        target_schema = df_with_golden_schema.schema\n",
    "        \n",
    "        #print(\"\\nFinal schema to be applied:\")\n",
    "        # --- THIS IS THE CORRECTED LOGIC ---\n",
    "        # Call .printSchema() on the DataFrame, not the schema object.\n",
    "        #df_with_golden_schema.printSchema()\n",
    "        # --- END OF CORRECTION ---\n",
    "\n",
    "        #print(f\"\\nReading all data from '{data_path}' using this schema...\")\n",
    "        combined_df = spark.read.schema(target_schema).parquet(data_path)\n",
    "        #print(\"Data read successfully.\")\n",
    "\n",
    "        return combined_df\n",
    "\n",
    "    except Exception as e:\n",
    "        print(f\"\\nERROR: Failed during the read process. Details: {e}\")\n",
    "        raise"
   ]
  },
  {
   "cell_type": "code",
   "execution_count": 21,
   "id": "963ff1ce",
   "metadata": {},
   "outputs": [
    {
     "name": "stdout",
     "output_type": "stream",
     "text": [
      "--- Reading Parquet folder with enforced schema ---\n"
     ]
    }
   ],
   "source": [
    "df_explicit = read_parquet_folder(\n",
    "        spark=spark,\n",
    "        data_path='data/',\n",
    "        golden_schema_path='data/Combined_Flights_2018.parquet' # We force it to use the `long` schema\n",
    "    )"
   ]
  },
  {
   "cell_type": "code",
   "execution_count": 22,
   "id": "c479c86e",
   "metadata": {},
   "outputs": [
    {
     "data": {
      "text/plain": [
       "18803593"
      ]
     },
     "execution_count": 22,
     "metadata": {},
     "output_type": "execute_result"
    }
   ],
   "source": [
    "df_explicit.count()"
   ]
  },
  {
   "cell_type": "code",
   "execution_count": 23,
   "id": "bbbd2112",
   "metadata": {},
   "outputs": [
    {
     "name": "stdout",
     "output_type": "stream",
     "text": [
      "+-------------------+-----------------+------+----+---------+--------+----------+-------+---------------+--------+-------+---------------+-------+--------------+-----------------+--------+----+-------+-----+----------+---------+-------------------------+---------------------------------------+------------------------+---------------------------+-------------------------------+-----------------+------------------------+---------------------------+-----------+-------------------------------+---------------+------------------+------------------+--------------+-----------+---------------+---------------+---------+-------------+----------------+----------------+------------+---------+-------------+-------------+-------+--------+--------------------+----------+-------+---------+--------+------+----------+--------+--------+------------------+----------+-------------+------------------+-----------------+\n",
      "|         FlightDate|          Airline|Origin|Dest|Cancelled|Diverted|CRSDepTime|DepTime|DepDelayMinutes|DepDelay|ArrTime|ArrDelayMinutes|AirTime|CRSElapsedTime|ActualElapsedTime|Distance|Year|Quarter|Month|DayofMonth|DayOfWeek|Marketing_Airline_Network|Operated_or_Branded_Code_Share_Partners|DOT_ID_Marketing_Airline|IATA_Code_Marketing_Airline|Flight_Number_Marketing_Airline|Operating_Airline|DOT_ID_Operating_Airline|IATA_Code_Operating_Airline|Tail_Number|Flight_Number_Operating_Airline|OriginAirportID|OriginAirportSeqID|OriginCityMarketID|OriginCityName|OriginState|OriginStateFips|OriginStateName|OriginWac|DestAirportID|DestAirportSeqID|DestCityMarketID|DestCityName|DestState|DestStateFips|DestStateName|DestWac|DepDel15|DepartureDelayGroups|DepTimeBlk|TaxiOut|WheelsOff|WheelsOn|TaxiIn|CRSArrTime|ArrDelay|ArrDel15|ArrivalDelayGroups|ArrTimeBlk|DistanceGroup|DivAirportLandings|__index_level_0__|\n",
      "+-------------------+-----------------+------+----+---------+--------+----------+-------+---------------+--------+-------+---------------+-------+--------------+-----------------+--------+----+-------+-----+----------+---------+-------------------------+---------------------------------------+------------------------+---------------------------+-------------------------------+-----------------+------------------------+---------------------------+-----------+-------------------------------+---------------+------------------+------------------+--------------+-----------+---------------+---------------+---------+-------------+----------------+----------------+------------+---------+-------------+-------------+-------+--------+--------------------+----------+-------+---------+--------+------+----------+--------+--------+------------------+----------+-------------+------------------+-----------------+\n",
      "|2018-01-23 00:00:00|Endeavor Air Inc.|   ABY| ATL|    false|   false|      1202| 1157.0|            0.0|    -5.0| 1256.0|            0.0|   38.0|          62.0|             59.0|   145.0|2018|      1|    1|        23|        2|                       DL|                           DL_CODESHARE|                   19790|                         DL|                           3298|               9E|                   20363|                         9E|     N8928A|                           3298|          10146|           1014602|             30146|    Albany, GA|         GA|             13|        Georgia|       34|        10397|         1039707|           30397| Atlanta, GA|       GA|           13|      Georgia|     34|     0.0|                -1.0| 1200-1259|   14.0|   1211.0|  1249.0|   7.0|      1304|    -8.0|     0.0|              -1.0| 1300-1359|            1|               0.0|                0|\n",
      "|2018-01-24 00:00:00|Endeavor Air Inc.|   ABY| ATL|    false|   false|      1202| 1157.0|            0.0|    -5.0| 1258.0|            0.0|   36.0|          62.0|             61.0|   145.0|2018|      1|    1|        24|        3|                       DL|                           DL_CODESHARE|                   19790|                         DL|                           3298|               9E|                   20363|                         9E|     N800AY|                           3298|          10146|           1014602|             30146|    Albany, GA|         GA|             13|        Georgia|       34|        10397|         1039707|           30397| Atlanta, GA|       GA|           13|      Georgia|     34|     0.0|                -1.0| 1200-1259|   13.0|   1210.0|  1246.0|  12.0|      1304|    -6.0|     0.0|              -1.0| 1300-1359|            1|               0.0|                1|\n",
      "|2018-01-25 00:00:00|Endeavor Air Inc.|   ABY| ATL|    false|   false|      1202| 1153.0|            0.0|    -9.0| 1302.0|            0.0|   40.0|          62.0|             69.0|   145.0|2018|      1|    1|        25|        4|                       DL|                           DL_CODESHARE|                   19790|                         DL|                           3298|               9E|                   20363|                         9E|     N8836A|                           3298|          10146|           1014602|             30146|    Albany, GA|         GA|             13|        Georgia|       34|        10397|         1039707|           30397| Atlanta, GA|       GA|           13|      Georgia|     34|     0.0|                -1.0| 1200-1259|   18.0|   1211.0|  1251.0|  11.0|      1304|    -2.0|     0.0|              -1.0| 1300-1359|            1|               0.0|                2|\n",
      "|2018-01-26 00:00:00|Endeavor Air Inc.|   ABY| ATL|    false|   false|      1202| 1150.0|            0.0|   -12.0| 1253.0|            0.0|   35.0|          62.0|             63.0|   145.0|2018|      1|    1|        26|        5|                       DL|                           DL_CODESHARE|                   19790|                         DL|                           3298|               9E|                   20363|                         9E|     N800AY|                           3298|          10146|           1014602|             30146|    Albany, GA|         GA|             13|        Georgia|       34|        10397|         1039707|           30397| Atlanta, GA|       GA|           13|      Georgia|     34|     0.0|                -1.0| 1200-1259|   17.0|   1207.0|  1242.0|  11.0|      1304|   -11.0|     0.0|              -1.0| 1300-1359|            1|               0.0|                3|\n",
      "|2018-01-27 00:00:00|Endeavor Air Inc.|   ABY| ATL|    false|   false|      1400| 1355.0|            0.0|    -5.0| 1459.0|            0.0|   36.0|          60.0|             64.0|   145.0|2018|      1|    1|        27|        6|                       DL|                           DL_CODESHARE|                   19790|                         DL|                           3298|               9E|                   20363|                         9E|     N8839E|                           3298|          10146|           1014602|             30146|    Albany, GA|         GA|             13|        Georgia|       34|        10397|         1039707|           30397| Atlanta, GA|       GA|           13|      Georgia|     34|     0.0|                -1.0| 1400-1459|   17.0|   1412.0|  1448.0|  11.0|      1500|    -1.0|     0.0|              -1.0| 1500-1559|            1|               0.0|                4|\n",
      "|2018-01-28 00:00:00|Endeavor Air Inc.|   ABY| ATL|    false|   false|      1202| 1202.0|           NULL|    NULL| 1326.0|           22.0|   37.0|          62.0|             84.0|   145.0|2018|      1|    1|        28|        7|                       DL|                           DL_CODESHARE|                   19790|                         DL|                           3298|               9E|                   20363|                         9E|     N8918B|                           3298|          10146|           1014602|             30146|    Albany, GA|         GA|             13|        Georgia|       34|        10397|         1039707|           30397| Atlanta, GA|       GA|           13|      Georgia|     34|    NULL|                NULL| 1200-1259|   34.0|   1236.0|  1313.0|  13.0|      1304|    22.0|     1.0|               1.0| 1300-1359|            1|               0.0|                5|\n",
      "|2018-01-29 00:00:00|Endeavor Air Inc.|   ABY| ATL|    false|   false|      1202| 1204.0|            2.0|     2.0| 1303.0|            0.0|   34.0|          62.0|             59.0|   145.0|2018|      1|    1|        29|        1|                       DL|                           DL_CODESHARE|                   19790|                         DL|                           3298|               9E|                   20363|                         9E|     N8783E|                           3298|          10146|           1014602|             30146|    Albany, GA|         GA|             13|        Georgia|       34|        10397|         1039707|           30397| Atlanta, GA|       GA|           13|      Georgia|     34|     0.0|                 0.0| 1200-1259|   15.0|   1219.0|  1253.0|  10.0|      1304|    -1.0|     0.0|              -1.0| 1300-1359|            1|               0.0|                6|\n",
      "|2018-01-30 00:00:00|Endeavor Air Inc.|   ABY| ATL|    false|   false|      1202| 1153.0|            0.0|    -9.0| 1255.0|            0.0|   44.0|          62.0|             62.0|   145.0|2018|      1|    1|        30|        2|                       DL|                           DL_CODESHARE|                   19790|                         DL|                           3298|               9E|                   20363|                         9E|     N8946A|                           3298|          10146|           1014602|             30146|    Albany, GA|         GA|             13|        Georgia|       34|        10397|         1039707|           30397| Atlanta, GA|       GA|           13|      Georgia|     34|     0.0|                -1.0| 1200-1259|    7.0|   1200.0|  1244.0|  11.0|      1304|    -9.0|     0.0|              -1.0| 1300-1359|            1|               0.0|                7|\n",
      "|2018-01-31 00:00:00|Endeavor Air Inc.|   ABY| ATL|    false|   false|      1202| 1153.0|            0.0|    -9.0| 1304.0|           NULL|   37.0|          62.0|             71.0|   145.0|2018|      1|    1|        31|        3|                       DL|                           DL_CODESHARE|                   19790|                         DL|                           3298|               9E|                   20363|                         9E|     N8918B|                           3298|          10146|           1014602|             30146|    Albany, GA|         GA|             13|        Georgia|       34|        10397|         1039707|           30397| Atlanta, GA|       GA|           13|      Georgia|     34|     0.0|                -1.0| 1200-1259|   26.0|   1219.0|  1256.0|   8.0|      1304|    NULL|    NULL|              NULL| 1300-1359|            1|               0.0|                8|\n",
      "|2018-01-03 00:00:00|Endeavor Air Inc.|   ATL| ABY|    false|   false|      1037| 1101.0|           24.0|    24.0| 1159.0|           22.0|   32.0|          60.0|             58.0|   145.0|2018|      1|    1|         3|        3|                       DL|                           DL_CODESHARE|                   19790|                         DL|                           3298|               9E|                   20363|                         9E|     N981EV|                           3298|          10397|           1039707|             30397|   Atlanta, GA|         GA|             13|        Georgia|       34|        10146|         1014602|           30146|  Albany, GA|       GA|           13|      Georgia|     34|     1.0|                 1.0| 1000-1059|   23.0|   1124.0|  1156.0|   3.0|      1137|    22.0|     1.0|               1.0| 1100-1159|            1|               0.0|                9|\n",
      "+-------------------+-----------------+------+----+---------+--------+----------+-------+---------------+--------+-------+---------------+-------+--------------+-----------------+--------+----+-------+-----+----------+---------+-------------------------+---------------------------------------+------------------------+---------------------------+-------------------------------+-----------------+------------------------+---------------------------+-----------+-------------------------------+---------------+------------------+------------------+--------------+-----------+---------------+---------------+---------+-------------+----------------+----------------+------------+---------+-------------+-------------+-------+--------+--------------------+----------+-------+---------+--------+------+----------+--------+--------+------------------+----------+-------------+------------------+-----------------+\n",
      "only showing top 10 rows\n",
      "\n"
     ]
    }
   ],
   "source": [
    "df_explicit.show(10)"
   ]
  },
  {
   "cell_type": "code",
   "execution_count": 24,
   "id": "14ace66b",
   "metadata": {},
   "outputs": [
    {
     "name": "stdout",
     "output_type": "stream",
     "text": [
      "root\n",
      " |-- FlightDate: timestamp_ntz (nullable = true)\n",
      " |-- Airline: string (nullable = true)\n",
      " |-- Origin: string (nullable = true)\n",
      " |-- Dest: string (nullable = true)\n",
      " |-- Cancelled: boolean (nullable = true)\n",
      " |-- Diverted: boolean (nullable = true)\n",
      " |-- CRSDepTime: long (nullable = true)\n",
      " |-- DepTime: double (nullable = true)\n",
      " |-- DepDelayMinutes: double (nullable = true)\n",
      " |-- DepDelay: double (nullable = true)\n",
      " |-- ArrTime: double (nullable = true)\n",
      " |-- ArrDelayMinutes: double (nullable = true)\n",
      " |-- AirTime: double (nullable = true)\n",
      " |-- CRSElapsedTime: double (nullable = true)\n",
      " |-- ActualElapsedTime: double (nullable = true)\n",
      " |-- Distance: double (nullable = true)\n",
      " |-- Year: long (nullable = true)\n",
      " |-- Quarter: long (nullable = true)\n",
      " |-- Month: long (nullable = true)\n",
      " |-- DayofMonth: long (nullable = true)\n",
      " |-- DayOfWeek: long (nullable = true)\n",
      " |-- Marketing_Airline_Network: string (nullable = true)\n",
      " |-- Operated_or_Branded_Code_Share_Partners: string (nullable = true)\n",
      " |-- DOT_ID_Marketing_Airline: long (nullable = true)\n",
      " |-- IATA_Code_Marketing_Airline: string (nullable = true)\n",
      " |-- Flight_Number_Marketing_Airline: long (nullable = true)\n",
      " |-- Operating_Airline: string (nullable = true)\n",
      " |-- DOT_ID_Operating_Airline: long (nullable = true)\n",
      " |-- IATA_Code_Operating_Airline: string (nullable = true)\n",
      " |-- Tail_Number: string (nullable = true)\n",
      " |-- Flight_Number_Operating_Airline: long (nullable = true)\n",
      " |-- OriginAirportID: long (nullable = true)\n",
      " |-- OriginAirportSeqID: long (nullable = true)\n",
      " |-- OriginCityMarketID: long (nullable = true)\n",
      " |-- OriginCityName: string (nullable = true)\n",
      " |-- OriginState: string (nullable = true)\n",
      " |-- OriginStateFips: long (nullable = true)\n",
      " |-- OriginStateName: string (nullable = true)\n",
      " |-- OriginWac: long (nullable = true)\n",
      " |-- DestAirportID: long (nullable = true)\n",
      " |-- DestAirportSeqID: long (nullable = true)\n",
      " |-- DestCityMarketID: long (nullable = true)\n",
      " |-- DestCityName: string (nullable = true)\n",
      " |-- DestState: string (nullable = true)\n",
      " |-- DestStateFips: long (nullable = true)\n",
      " |-- DestStateName: string (nullable = true)\n",
      " |-- DestWac: long (nullable = true)\n",
      " |-- DepDel15: double (nullable = true)\n",
      " |-- DepartureDelayGroups: double (nullable = true)\n",
      " |-- DepTimeBlk: string (nullable = true)\n",
      " |-- TaxiOut: double (nullable = true)\n",
      " |-- WheelsOff: double (nullable = true)\n",
      " |-- WheelsOn: double (nullable = true)\n",
      " |-- TaxiIn: double (nullable = true)\n",
      " |-- CRSArrTime: long (nullable = true)\n",
      " |-- ArrDelay: double (nullable = true)\n",
      " |-- ArrDel15: double (nullable = true)\n",
      " |-- ArrivalDelayGroups: double (nullable = true)\n",
      " |-- ArrTimeBlk: string (nullable = true)\n",
      " |-- DistanceGroup: long (nullable = true)\n",
      " |-- DivAirportLandings: double (nullable = true)\n",
      " |-- __index_level_0__: long (nullable = true)\n",
      "\n"
     ]
    }
   ],
   "source": [
    "df_explicit.printSchema()"
   ]
  },
  {
   "cell_type": "markdown",
   "id": "046858ab",
   "metadata": {},
   "source": [
    "### Group by"
   ]
  },
  {
   "cell_type": "code",
   "execution_count": 25,
   "id": "dea2ba41",
   "metadata": {},
   "outputs": [
    {
     "name": "stdout",
     "output_type": "stream",
     "text": [
      "+--------------------+--------------------+------------------+------------+----------+----------+\n",
      "|             Airline|TotalDepDelayMinutes|    AverageAirtime|TotalFlights|MinAirTime|MaxAirTime|\n",
      "+--------------------+--------------------+------------------+------------+----------+----------+\n",
      "|GoJet Airlines, L...|           2987864.0| 75.36526416623683|      181550|      13.0|     236.0|\n",
      "|   Endeavor Air Inc.|           6430948.0| 70.02952781269916|      588733|      14.0|     256.0|\n",
      "|       Allegiant Air|           4247661.0|117.29545510696046|      300015|      17.0|     315.0|\n",
      "|SkyWest Airlines ...|         2.6038771E7| 76.71127614515942|     1965533|       4.0|     327.0|\n",
      "|      Virgin America|            187977.0|191.06103888532618|       17670|      37.0|     432.0|\n",
      "|         Horizon Air|           1969357.0| 71.46498950500296|      303205|       9.0|     295.0|\n",
      "|United Air Lines ...|         2.0599582E7|155.60338560099026|     1555692|      13.0|     684.0|\n",
      "|Air Wisconsin Air...|           3782370.0|  60.9228184547614|      259646|       9.0|     701.0|\n",
      "|Trans States Airl...|           3380615.0| 72.97776251951366|      161590|      10.0|     267.0|\n",
      "|    Compass Airlines|           2119040.0| 80.75763744787814|      154985|   -1244.0|     298.0|\n",
      "|Peninsula Airways...|             49988.0|130.61763422086426|        2783|     101.0|     333.0|\n",
      "|         Comair Inc.|           7332184.0|  66.2359123649355|      598734|       8.0|     226.0|\n",
      "|Frontier Airlines...|           5863023.0|136.61022783247577|      346753|      16.0|     632.0|\n",
      "|            Cape Air|              7704.0| 35.56132930513595|        1661|      15.0|     100.0|\n",
      "|Southwest Airline...|         3.6142059E7|103.51758351133743|     3677774|      15.0|     416.0|\n",
      "|ExpressJet Airlin...|           5785773.0| 74.66384122328787|      353669|       7.0|    1557.0|\n",
      "|     JetBlue Airways|         1.3415212E7|150.30830231072537|      746584|       7.0|     447.0|\n",
      "|Commutair Aka Cha...|           3360289.0|63.997956253181485|      139015|      12.0|     233.0|\n",
      "|Empire Airlines Inc.|            219057.0|21.979345603271984|       23010|       8.0|      55.0|\n",
      "|           Envoy Air|           6842425.0| 71.75879664746334|      666269|      12.0|     278.0|\n",
      "+--------------------+--------------------+------------------+------------+----------+----------+\n",
      "only showing top 20 rows\n",
      "\n"
     ]
    }
   ],
   "source": [
    "from pyspark.sql.functions import sum,avg,count,min,max\n",
    "\n",
    "# Correct way using pyspark.sql.functions\n",
    "df_explicit.groupBy(\"Airline\").agg(\n",
    "    sum(\"DepDelayMinutes\").alias(\"TotalDepDelayMinutes\"),\n",
    "    avg(\"Airtime\").alias(\"AverageAirtime\"),\n",
    "    count(\"FlightDate\").alias(\"TotalFlights\"),\n",
    "    min(\"AirTime\").alias(\"MinAirTime\"),\n",
    "    max(\"AirTime\").alias(\"MaxAirTime\")\n",
    ").show()"
   ]
  },
  {
   "cell_type": "markdown",
   "id": "2c829635",
   "metadata": {},
   "source": [
    "### Data Filters"
   ]
  },
  {
   "cell_type": "code",
   "execution_count": 26,
   "id": "ae1fef64",
   "metadata": {},
   "outputs": [
    {
     "name": "stdout",
     "output_type": "stream",
     "text": [
      "+-------------------+-----------------+------+----+---------+--------+----------+-------+---------------+--------+-------+---------------+-------+--------------+-----------------+--------+----+-------+-----+----------+---------+-------------------------+---------------------------------------+------------------------+---------------------------+-------------------------------+-----------------+------------------------+---------------------------+-----------+-------------------------------+---------------+------------------+------------------+--------------+-----------+---------------+---------------+---------+-------------+----------------+----------------+------------+---------+-------------+-------------+-------+--------+--------------------+----------+-------+---------+--------+------+----------+--------+--------+------------------+----------+-------------+------------------+-----------------+\n",
      "|         FlightDate|          Airline|Origin|Dest|Cancelled|Diverted|CRSDepTime|DepTime|DepDelayMinutes|DepDelay|ArrTime|ArrDelayMinutes|AirTime|CRSElapsedTime|ActualElapsedTime|Distance|Year|Quarter|Month|DayofMonth|DayOfWeek|Marketing_Airline_Network|Operated_or_Branded_Code_Share_Partners|DOT_ID_Marketing_Airline|IATA_Code_Marketing_Airline|Flight_Number_Marketing_Airline|Operating_Airline|DOT_ID_Operating_Airline|IATA_Code_Operating_Airline|Tail_Number|Flight_Number_Operating_Airline|OriginAirportID|OriginAirportSeqID|OriginCityMarketID|OriginCityName|OriginState|OriginStateFips|OriginStateName|OriginWac|DestAirportID|DestAirportSeqID|DestCityMarketID|DestCityName|DestState|DestStateFips|DestStateName|DestWac|DepDel15|DepartureDelayGroups|DepTimeBlk|TaxiOut|WheelsOff|WheelsOn|TaxiIn|CRSArrTime|ArrDelay|ArrDel15|ArrivalDelayGroups|ArrTimeBlk|DistanceGroup|DivAirportLandings|__index_level_0__|\n",
      "+-------------------+-----------------+------+----+---------+--------+----------+-------+---------------+--------+-------+---------------+-------+--------------+-----------------+--------+----+-------+-----+----------+---------+-------------------------+---------------------------------------+------------------------+---------------------------+-------------------------------+-----------------+------------------------+---------------------------+-----------+-------------------------------+---------------+------------------+------------------+--------------+-----------+---------------+---------------+---------+-------------+----------------+----------------+------------+---------+-------------+-------------+-------+--------+--------------------+----------+-------+---------+--------+------+----------+--------+--------+------------------+----------+-------------+------------------+-----------------+\n",
      "|2018-01-23 00:00:00|Endeavor Air Inc.|   ABY| ATL|    false|   false|      1202| 1157.0|            0.0|    -5.0| 1256.0|            0.0|   38.0|          62.0|             59.0|   145.0|2018|      1|    1|        23|        2|                       DL|                           DL_CODESHARE|                   19790|                         DL|                           3298|               9E|                   20363|                         9E|     N8928A|                           3298|          10146|           1014602|             30146|    Albany, GA|         GA|             13|        Georgia|       34|        10397|         1039707|           30397| Atlanta, GA|       GA|           13|      Georgia|     34|     0.0|                -1.0| 1200-1259|   14.0|   1211.0|  1249.0|   7.0|      1304|    -8.0|     0.0|              -1.0| 1300-1359|            1|               0.0|                0|\n",
      "|2018-01-24 00:00:00|Endeavor Air Inc.|   ABY| ATL|    false|   false|      1202| 1157.0|            0.0|    -5.0| 1258.0|            0.0|   36.0|          62.0|             61.0|   145.0|2018|      1|    1|        24|        3|                       DL|                           DL_CODESHARE|                   19790|                         DL|                           3298|               9E|                   20363|                         9E|     N800AY|                           3298|          10146|           1014602|             30146|    Albany, GA|         GA|             13|        Georgia|       34|        10397|         1039707|           30397| Atlanta, GA|       GA|           13|      Georgia|     34|     0.0|                -1.0| 1200-1259|   13.0|   1210.0|  1246.0|  12.0|      1304|    -6.0|     0.0|              -1.0| 1300-1359|            1|               0.0|                1|\n",
      "|2018-01-25 00:00:00|Endeavor Air Inc.|   ABY| ATL|    false|   false|      1202| 1153.0|            0.0|    -9.0| 1302.0|            0.0|   40.0|          62.0|             69.0|   145.0|2018|      1|    1|        25|        4|                       DL|                           DL_CODESHARE|                   19790|                         DL|                           3298|               9E|                   20363|                         9E|     N8836A|                           3298|          10146|           1014602|             30146|    Albany, GA|         GA|             13|        Georgia|       34|        10397|         1039707|           30397| Atlanta, GA|       GA|           13|      Georgia|     34|     0.0|                -1.0| 1200-1259|   18.0|   1211.0|  1251.0|  11.0|      1304|    -2.0|     0.0|              -1.0| 1300-1359|            1|               0.0|                2|\n",
      "|2018-01-26 00:00:00|Endeavor Air Inc.|   ABY| ATL|    false|   false|      1202| 1150.0|            0.0|   -12.0| 1253.0|            0.0|   35.0|          62.0|             63.0|   145.0|2018|      1|    1|        26|        5|                       DL|                           DL_CODESHARE|                   19790|                         DL|                           3298|               9E|                   20363|                         9E|     N800AY|                           3298|          10146|           1014602|             30146|    Albany, GA|         GA|             13|        Georgia|       34|        10397|         1039707|           30397| Atlanta, GA|       GA|           13|      Georgia|     34|     0.0|                -1.0| 1200-1259|   17.0|   1207.0|  1242.0|  11.0|      1304|   -11.0|     0.0|              -1.0| 1300-1359|            1|               0.0|                3|\n",
      "|2018-01-27 00:00:00|Endeavor Air Inc.|   ABY| ATL|    false|   false|      1400| 1355.0|            0.0|    -5.0| 1459.0|            0.0|   36.0|          60.0|             64.0|   145.0|2018|      1|    1|        27|        6|                       DL|                           DL_CODESHARE|                   19790|                         DL|                           3298|               9E|                   20363|                         9E|     N8839E|                           3298|          10146|           1014602|             30146|    Albany, GA|         GA|             13|        Georgia|       34|        10397|         1039707|           30397| Atlanta, GA|       GA|           13|      Georgia|     34|     0.0|                -1.0| 1400-1459|   17.0|   1412.0|  1448.0|  11.0|      1500|    -1.0|     0.0|              -1.0| 1500-1559|            1|               0.0|                4|\n",
      "|2018-01-28 00:00:00|Endeavor Air Inc.|   ABY| ATL|    false|   false|      1202| 1202.0|           NULL|    NULL| 1326.0|           22.0|   37.0|          62.0|             84.0|   145.0|2018|      1|    1|        28|        7|                       DL|                           DL_CODESHARE|                   19790|                         DL|                           3298|               9E|                   20363|                         9E|     N8918B|                           3298|          10146|           1014602|             30146|    Albany, GA|         GA|             13|        Georgia|       34|        10397|         1039707|           30397| Atlanta, GA|       GA|           13|      Georgia|     34|    NULL|                NULL| 1200-1259|   34.0|   1236.0|  1313.0|  13.0|      1304|    22.0|     1.0|               1.0| 1300-1359|            1|               0.0|                5|\n",
      "|2018-01-29 00:00:00|Endeavor Air Inc.|   ABY| ATL|    false|   false|      1202| 1204.0|            2.0|     2.0| 1303.0|            0.0|   34.0|          62.0|             59.0|   145.0|2018|      1|    1|        29|        1|                       DL|                           DL_CODESHARE|                   19790|                         DL|                           3298|               9E|                   20363|                         9E|     N8783E|                           3298|          10146|           1014602|             30146|    Albany, GA|         GA|             13|        Georgia|       34|        10397|         1039707|           30397| Atlanta, GA|       GA|           13|      Georgia|     34|     0.0|                 0.0| 1200-1259|   15.0|   1219.0|  1253.0|  10.0|      1304|    -1.0|     0.0|              -1.0| 1300-1359|            1|               0.0|                6|\n",
      "|2018-01-30 00:00:00|Endeavor Air Inc.|   ABY| ATL|    false|   false|      1202| 1153.0|            0.0|    -9.0| 1255.0|            0.0|   44.0|          62.0|             62.0|   145.0|2018|      1|    1|        30|        2|                       DL|                           DL_CODESHARE|                   19790|                         DL|                           3298|               9E|                   20363|                         9E|     N8946A|                           3298|          10146|           1014602|             30146|    Albany, GA|         GA|             13|        Georgia|       34|        10397|         1039707|           30397| Atlanta, GA|       GA|           13|      Georgia|     34|     0.0|                -1.0| 1200-1259|    7.0|   1200.0|  1244.0|  11.0|      1304|    -9.0|     0.0|              -1.0| 1300-1359|            1|               0.0|                7|\n",
      "|2018-01-31 00:00:00|Endeavor Air Inc.|   ABY| ATL|    false|   false|      1202| 1153.0|            0.0|    -9.0| 1304.0|           NULL|   37.0|          62.0|             71.0|   145.0|2018|      1|    1|        31|        3|                       DL|                           DL_CODESHARE|                   19790|                         DL|                           3298|               9E|                   20363|                         9E|     N8918B|                           3298|          10146|           1014602|             30146|    Albany, GA|         GA|             13|        Georgia|       34|        10397|         1039707|           30397| Atlanta, GA|       GA|           13|      Georgia|     34|     0.0|                -1.0| 1200-1259|   26.0|   1219.0|  1256.0|   8.0|      1304|    NULL|    NULL|              NULL| 1300-1359|            1|               0.0|                8|\n",
      "|2018-01-03 00:00:00|Endeavor Air Inc.|   ATL| ABY|    false|   false|      1037| 1101.0|           24.0|    24.0| 1159.0|           22.0|   32.0|          60.0|             58.0|   145.0|2018|      1|    1|         3|        3|                       DL|                           DL_CODESHARE|                   19790|                         DL|                           3298|               9E|                   20363|                         9E|     N981EV|                           3298|          10397|           1039707|             30397|   Atlanta, GA|         GA|             13|        Georgia|       34|        10146|         1014602|           30146|  Albany, GA|       GA|           13|      Georgia|     34|     1.0|                 1.0| 1000-1059|   23.0|   1124.0|  1156.0|   3.0|      1137|    22.0|     1.0|               1.0| 1100-1159|            1|               0.0|                9|\n",
      "+-------------------+-----------------+------+----+---------+--------+----------+-------+---------------+--------+-------+---------------+-------+--------------+-----------------+--------+----+-------+-----+----------+---------+-------------------------+---------------------------------------+------------------------+---------------------------+-------------------------------+-----------------+------------------------+---------------------------+-----------+-------------------------------+---------------+------------------+------------------+--------------+-----------+---------------+---------------+---------+-------------+----------------+----------------+------------+---------+-------------+-------------+-------+--------+--------------------+----------+-------+---------+--------+------+----------+--------+--------+------------------+----------+-------------+------------------+-----------------+\n",
      "only showing top 10 rows\n",
      "\n"
     ]
    }
   ],
   "source": [
    "df_explicit.show(10)"
   ]
  },
  {
   "cell_type": "code",
   "execution_count": 27,
   "id": "3530dfd6",
   "metadata": {},
   "outputs": [],
   "source": [
    "df_2=df_explicit.filter(\n",
    "    (col(\"Origin\") == \"ABY\") & (col(\"AirTime\") > 30)\n",
    ")"
   ]
  },
  {
   "cell_type": "code",
   "execution_count": 28,
   "id": "c9d44dc5",
   "metadata": {},
   "outputs": [
    {
     "data": {
      "text/plain": [
       "2227"
      ]
     },
     "execution_count": 28,
     "metadata": {},
     "output_type": "execute_result"
    }
   ],
   "source": [
    "df_2.count()"
   ]
  },
  {
   "cell_type": "code",
   "execution_count": 29,
   "id": "5823922e",
   "metadata": {},
   "outputs": [
    {
     "name": "stdout",
     "output_type": "stream",
     "text": [
      "+-------------------+-----------------+------+----+---------+--------+----------+-------+---------------+--------+-------+---------------+-------+--------------+-----------------+--------+----+-------+-----+----------+---------+-------------------------+---------------------------------------+------------------------+---------------------------+-------------------------------+-----------------+------------------------+---------------------------+-----------+-------------------------------+---------------+------------------+------------------+--------------+-----------+---------------+---------------+---------+-------------+----------------+----------------+------------+---------+-------------+-------------+-------+--------+--------------------+----------+-------+---------+--------+------+----------+--------+--------+------------------+----------+-------------+------------------+-----------------+\n",
      "|         FlightDate|          Airline|Origin|Dest|Cancelled|Diverted|CRSDepTime|DepTime|DepDelayMinutes|DepDelay|ArrTime|ArrDelayMinutes|AirTime|CRSElapsedTime|ActualElapsedTime|Distance|Year|Quarter|Month|DayofMonth|DayOfWeek|Marketing_Airline_Network|Operated_or_Branded_Code_Share_Partners|DOT_ID_Marketing_Airline|IATA_Code_Marketing_Airline|Flight_Number_Marketing_Airline|Operating_Airline|DOT_ID_Operating_Airline|IATA_Code_Operating_Airline|Tail_Number|Flight_Number_Operating_Airline|OriginAirportID|OriginAirportSeqID|OriginCityMarketID|OriginCityName|OriginState|OriginStateFips|OriginStateName|OriginWac|DestAirportID|DestAirportSeqID|DestCityMarketID|DestCityName|DestState|DestStateFips|DestStateName|DestWac|DepDel15|DepartureDelayGroups|DepTimeBlk|TaxiOut|WheelsOff|WheelsOn|TaxiIn|CRSArrTime|ArrDelay|ArrDel15|ArrivalDelayGroups|ArrTimeBlk|DistanceGroup|DivAirportLandings|__index_level_0__|\n",
      "+-------------------+-----------------+------+----+---------+--------+----------+-------+---------------+--------+-------+---------------+-------+--------------+-----------------+--------+----+-------+-----+----------+---------+-------------------------+---------------------------------------+------------------------+---------------------------+-------------------------------+-----------------+------------------------+---------------------------+-----------+-------------------------------+---------------+------------------+------------------+--------------+-----------+---------------+---------------+---------+-------------+----------------+----------------+------------+---------+-------------+-------------+-------+--------+--------------------+----------+-------+---------+--------+------+----------+--------+--------+------------------+----------+-------------+------------------+-----------------+\n",
      "|2018-01-23 00:00:00|Endeavor Air Inc.|   ABY| ATL|    false|   false|      1202| 1157.0|            0.0|    -5.0| 1256.0|            0.0|   38.0|          62.0|             59.0|   145.0|2018|      1|    1|        23|        2|                       DL|                           DL_CODESHARE|                   19790|                         DL|                           3298|               9E|                   20363|                         9E|     N8928A|                           3298|          10146|           1014602|             30146|    Albany, GA|         GA|             13|        Georgia|       34|        10397|         1039707|           30397| Atlanta, GA|       GA|           13|      Georgia|     34|     0.0|                -1.0| 1200-1259|   14.0|   1211.0|  1249.0|   7.0|      1304|    -8.0|     0.0|              -1.0| 1300-1359|            1|               0.0|                0|\n",
      "|2018-01-24 00:00:00|Endeavor Air Inc.|   ABY| ATL|    false|   false|      1202| 1157.0|            0.0|    -5.0| 1258.0|            0.0|   36.0|          62.0|             61.0|   145.0|2018|      1|    1|        24|        3|                       DL|                           DL_CODESHARE|                   19790|                         DL|                           3298|               9E|                   20363|                         9E|     N800AY|                           3298|          10146|           1014602|             30146|    Albany, GA|         GA|             13|        Georgia|       34|        10397|         1039707|           30397| Atlanta, GA|       GA|           13|      Georgia|     34|     0.0|                -1.0| 1200-1259|   13.0|   1210.0|  1246.0|  12.0|      1304|    -6.0|     0.0|              -1.0| 1300-1359|            1|               0.0|                1|\n",
      "|2018-01-25 00:00:00|Endeavor Air Inc.|   ABY| ATL|    false|   false|      1202| 1153.0|            0.0|    -9.0| 1302.0|            0.0|   40.0|          62.0|             69.0|   145.0|2018|      1|    1|        25|        4|                       DL|                           DL_CODESHARE|                   19790|                         DL|                           3298|               9E|                   20363|                         9E|     N8836A|                           3298|          10146|           1014602|             30146|    Albany, GA|         GA|             13|        Georgia|       34|        10397|         1039707|           30397| Atlanta, GA|       GA|           13|      Georgia|     34|     0.0|                -1.0| 1200-1259|   18.0|   1211.0|  1251.0|  11.0|      1304|    -2.0|     0.0|              -1.0| 1300-1359|            1|               0.0|                2|\n",
      "|2018-01-26 00:00:00|Endeavor Air Inc.|   ABY| ATL|    false|   false|      1202| 1150.0|            0.0|   -12.0| 1253.0|            0.0|   35.0|          62.0|             63.0|   145.0|2018|      1|    1|        26|        5|                       DL|                           DL_CODESHARE|                   19790|                         DL|                           3298|               9E|                   20363|                         9E|     N800AY|                           3298|          10146|           1014602|             30146|    Albany, GA|         GA|             13|        Georgia|       34|        10397|         1039707|           30397| Atlanta, GA|       GA|           13|      Georgia|     34|     0.0|                -1.0| 1200-1259|   17.0|   1207.0|  1242.0|  11.0|      1304|   -11.0|     0.0|              -1.0| 1300-1359|            1|               0.0|                3|\n",
      "|2018-01-27 00:00:00|Endeavor Air Inc.|   ABY| ATL|    false|   false|      1400| 1355.0|            0.0|    -5.0| 1459.0|            0.0|   36.0|          60.0|             64.0|   145.0|2018|      1|    1|        27|        6|                       DL|                           DL_CODESHARE|                   19790|                         DL|                           3298|               9E|                   20363|                         9E|     N8839E|                           3298|          10146|           1014602|             30146|    Albany, GA|         GA|             13|        Georgia|       34|        10397|         1039707|           30397| Atlanta, GA|       GA|           13|      Georgia|     34|     0.0|                -1.0| 1400-1459|   17.0|   1412.0|  1448.0|  11.0|      1500|    -1.0|     0.0|              -1.0| 1500-1559|            1|               0.0|                4|\n",
      "|2018-01-28 00:00:00|Endeavor Air Inc.|   ABY| ATL|    false|   false|      1202| 1202.0|           NULL|    NULL| 1326.0|           22.0|   37.0|          62.0|             84.0|   145.0|2018|      1|    1|        28|        7|                       DL|                           DL_CODESHARE|                   19790|                         DL|                           3298|               9E|                   20363|                         9E|     N8918B|                           3298|          10146|           1014602|             30146|    Albany, GA|         GA|             13|        Georgia|       34|        10397|         1039707|           30397| Atlanta, GA|       GA|           13|      Georgia|     34|    NULL|                NULL| 1200-1259|   34.0|   1236.0|  1313.0|  13.0|      1304|    22.0|     1.0|               1.0| 1300-1359|            1|               0.0|                5|\n",
      "|2018-01-29 00:00:00|Endeavor Air Inc.|   ABY| ATL|    false|   false|      1202| 1204.0|            2.0|     2.0| 1303.0|            0.0|   34.0|          62.0|             59.0|   145.0|2018|      1|    1|        29|        1|                       DL|                           DL_CODESHARE|                   19790|                         DL|                           3298|               9E|                   20363|                         9E|     N8783E|                           3298|          10146|           1014602|             30146|    Albany, GA|         GA|             13|        Georgia|       34|        10397|         1039707|           30397| Atlanta, GA|       GA|           13|      Georgia|     34|     0.0|                 0.0| 1200-1259|   15.0|   1219.0|  1253.0|  10.0|      1304|    -1.0|     0.0|              -1.0| 1300-1359|            1|               0.0|                6|\n",
      "|2018-01-30 00:00:00|Endeavor Air Inc.|   ABY| ATL|    false|   false|      1202| 1153.0|            0.0|    -9.0| 1255.0|            0.0|   44.0|          62.0|             62.0|   145.0|2018|      1|    1|        30|        2|                       DL|                           DL_CODESHARE|                   19790|                         DL|                           3298|               9E|                   20363|                         9E|     N8946A|                           3298|          10146|           1014602|             30146|    Albany, GA|         GA|             13|        Georgia|       34|        10397|         1039707|           30397| Atlanta, GA|       GA|           13|      Georgia|     34|     0.0|                -1.0| 1200-1259|    7.0|   1200.0|  1244.0|  11.0|      1304|    -9.0|     0.0|              -1.0| 1300-1359|            1|               0.0|                7|\n",
      "|2018-01-31 00:00:00|Endeavor Air Inc.|   ABY| ATL|    false|   false|      1202| 1153.0|            0.0|    -9.0| 1304.0|           NULL|   37.0|          62.0|             71.0|   145.0|2018|      1|    1|        31|        3|                       DL|                           DL_CODESHARE|                   19790|                         DL|                           3298|               9E|                   20363|                         9E|     N8918B|                           3298|          10146|           1014602|             30146|    Albany, GA|         GA|             13|        Georgia|       34|        10397|         1039707|           30397| Atlanta, GA|       GA|           13|      Georgia|     34|     0.0|                -1.0| 1200-1259|   26.0|   1219.0|  1256.0|   8.0|      1304|    NULL|    NULL|              NULL| 1300-1359|            1|               0.0|                8|\n",
      "|2018-01-01 00:00:00|Endeavor Air Inc.|   ABY| ATL|    false|   false|       700|  656.0|            0.0|    -4.0|  751.0|            0.0|   38.0|          63.0|             55.0|   145.0|2018|      1|    1|         1|        1|                       DL|                           DL_CODESHARE|                   19790|                         DL|                           3331|               9E|                   20363|                         9E|     N833AY|                           3331|          10146|           1014602|             30146|    Albany, GA|         GA|             13|        Georgia|       34|        10397|         1039707|           30397| Atlanta, GA|       GA|           13|      Georgia|     34|     0.0|                -1.0| 0700-0759|   11.0|    707.0|   745.0|   6.0|       803|   -12.0|     0.0|              -1.0| 0800-0859|            1|               0.0|             1162|\n",
      "|2018-01-03 00:00:00|Endeavor Air Inc.|   ABY| ATL|    false|   false|       630|  631.0|            1.0|     1.0|  726.0|            0.0|   33.0|          59.0|             55.0|   145.0|2018|      1|    1|         3|        3|                       DL|                           DL_CODESHARE|                   19790|                         DL|                           3353|               9E|                   20363|                         9E|     N8883E|                           3353|          10146|           1014602|             30146|    Albany, GA|         GA|             13|        Georgia|       34|        10397|         1039707|           30397| Atlanta, GA|       GA|           13|      Georgia|     34|     0.0|                 0.0| 0600-0659|   11.0|    642.0|   715.0|  11.0|       729|    -3.0|     0.0|              -1.0| 0700-0759|            1|               0.0|             1948|\n",
      "|2018-01-04 00:00:00|Endeavor Air Inc.|   ABY| ATL|    false|   false|       630|  623.0|            0.0|    -7.0|  756.0|           27.0|   40.0|          59.0|             93.0|   145.0|2018|      1|    1|         4|        4|                       DL|                           DL_CODESHARE|                   19790|                         DL|                           3353|               9E|                   20363|                         9E|     N820AY|                           3353|          10146|           1014602|             30146|    Albany, GA|         GA|             13|        Georgia|       34|        10397|         1039707|           30397| Atlanta, GA|       GA|           13|      Georgia|     34|     0.0|                -1.0| 0600-0659|   46.0|    709.0|   749.0|   7.0|       729|    27.0|     1.0|               1.0| 0700-0759|            1|               0.0|             1949|\n",
      "|2018-01-05 00:00:00|Endeavor Air Inc.|   ABY| ATL|    false|   false|       630|  621.0|            0.0|    -9.0|  725.0|            0.0|   39.0|          59.0|             64.0|   145.0|2018|      1|    1|         5|        5|                       DL|                           DL_CODESHARE|                   19790|                         DL|                           3353|               9E|                   20363|                         9E|     N8986B|                           3353|          10146|           1014602|             30146|    Albany, GA|         GA|             13|        Georgia|       34|        10397|         1039707|           30397| Atlanta, GA|       GA|           13|      Georgia|     34|     0.0|                -1.0| 0600-0659|   20.0|    641.0|   720.0|   5.0|       729|    -4.0|     0.0|              -1.0| 0700-0759|            1|               0.0|             1950|\n",
      "|2018-01-06 00:00:00|Endeavor Air Inc.|   ABY| ATL|    false|   false|       630|  643.0|           13.0|    13.0|  758.0|           30.0|   37.0|          58.0|             75.0|   145.0|2018|      1|    1|         6|        6|                       DL|                           DL_CODESHARE|                   19790|                         DL|                           3353|               9E|                   20363|                         9E|     N836AY|                           3353|          10146|           1014602|             30146|    Albany, GA|         GA|             13|        Georgia|       34|        10397|         1039707|           30397| Atlanta, GA|       GA|           13|      Georgia|     34|     0.0|                 0.0| 0600-0659|   32.0|    715.0|   752.0|   6.0|       728|    30.0|     1.0|               2.0| 0700-0759|            1|               0.0|             1951|\n",
      "|2018-01-07 00:00:00|Endeavor Air Inc.|   ABY| ATL|    false|   false|       630|  625.0|            0.0|    -5.0|  729.0|           NULL|   37.0|          59.0|             64.0|   145.0|2018|      1|    1|         7|        7|                       DL|                           DL_CODESHARE|                   19790|                         DL|                           3353|               9E|                   20363|                         9E|     N836AY|                           3353|          10146|           1014602|             30146|    Albany, GA|         GA|             13|        Georgia|       34|        10397|         1039707|           30397| Atlanta, GA|       GA|           13|      Georgia|     34|     0.0|                -1.0| 0600-0659|   22.0|    647.0|   724.0|   5.0|       729|    NULL|    NULL|              NULL| 0700-0759|            1|               0.0|             1952|\n",
      "|2018-01-08 00:00:00|Endeavor Air Inc.|   ABY| ATL|    false|   false|       630| 1033.0|          243.0|   243.0| 1125.0|          236.0|   34.0|          59.0|             52.0|   145.0|2018|      1|    1|         8|        1|                       DL|                           DL_CODESHARE|                   19790|                         DL|                           3353|               9E|                   20363|                         9E|     N8888D|                           3353|          10146|           1014602|             30146|    Albany, GA|         GA|             13|        Georgia|       34|        10397|         1039707|           30397| Atlanta, GA|       GA|           13|      Georgia|     34|     1.0|                12.0| 0600-0659|   13.0|   1046.0|  1120.0|   5.0|       729|   236.0|     1.0|              12.0| 0700-0759|            1|               0.0|             1953|\n",
      "|2018-01-09 00:00:00|Endeavor Air Inc.|   ABY| ATL|    false|   false|       630|  625.0|            0.0|    -5.0|  719.0|            0.0|   35.0|          59.0|             54.0|   145.0|2018|      1|    1|         9|        2|                       DL|                           DL_CODESHARE|                   19790|                         DL|                           3353|               9E|                   20363|                         9E|     N8894A|                           3353|          10146|           1014602|             30146|    Albany, GA|         GA|             13|        Georgia|       34|        10397|         1039707|           30397| Atlanta, GA|       GA|           13|      Georgia|     34|     0.0|                -1.0| 0600-0659|   12.0|    637.0|   712.0|   7.0|       729|   -10.0|     0.0|              -1.0| 0700-0759|            1|               0.0|             1954|\n",
      "|2018-01-10 00:00:00|Endeavor Air Inc.|   ABY| ATL|    false|   false|       630|  619.0|            0.0|   -11.0|  725.0|            0.0|   40.0|          59.0|             66.0|   145.0|2018|      1|    1|        10|        3|                       DL|                           DL_CODESHARE|                   19790|                         DL|                           3353|               9E|                   20363|                         9E|     N8976E|                           3353|          10146|           1014602|             30146|    Albany, GA|         GA|             13|        Georgia|       34|        10397|         1039707|           30397| Atlanta, GA|       GA|           13|      Georgia|     34|     0.0|                -1.0| 0600-0659|   18.0|    637.0|   717.0|   8.0|       729|    -4.0|     0.0|              -1.0| 0700-0759|            1|               0.0|             1955|\n",
      "|2018-01-11 00:00:00|Endeavor Air Inc.|   ABY| ATL|    false|   false|       630|  620.0|            0.0|   -10.0|  711.0|            0.0|   32.0|          59.0|             51.0|   145.0|2018|      1|    1|        11|        4|                       DL|                           DL_CODESHARE|                   19790|                         DL|                           3353|               9E|                   20363|                         9E|     N8888D|                           3353|          10146|           1014602|             30146|    Albany, GA|         GA|             13|        Georgia|       34|        10397|         1039707|           30397| Atlanta, GA|       GA|           13|      Georgia|     34|     0.0|                -1.0| 0600-0659|    9.0|    629.0|   701.0|  10.0|       729|   -18.0|     0.0|              -2.0| 0700-0759|            1|               0.0|             1956|\n",
      "|2018-01-12 00:00:00|Endeavor Air Inc.|   ABY| ATL|    false|   false|       630|  628.0|            0.0|    -2.0|  723.0|            0.0|   33.0|          59.0|             55.0|   145.0|2018|      1|    1|        12|        5|                       DL|                           DL_CODESHARE|                   19790|                         DL|                           3353|               9E|                   20363|                         9E|     N8946A|                           3353|          10146|           1014602|             30146|    Albany, GA|         GA|             13|        Georgia|       34|        10397|         1039707|           30397| Atlanta, GA|       GA|           13|      Georgia|     34|     0.0|                -1.0| 0600-0659|   17.0|    645.0|   718.0|   5.0|       729|    -6.0|     0.0|              -1.0| 0700-0759|            1|               0.0|             1957|\n",
      "+-------------------+-----------------+------+----+---------+--------+----------+-------+---------------+--------+-------+---------------+-------+--------------+-----------------+--------+----+-------+-----+----------+---------+-------------------------+---------------------------------------+------------------------+---------------------------+-------------------------------+-----------------+------------------------+---------------------------+-----------+-------------------------------+---------------+------------------+------------------+--------------+-----------+---------------+---------------+---------+-------------+----------------+----------------+------------+---------+-------------+-------------+-------+--------+--------------------+----------+-------+---------+--------+------+----------+--------+--------+------------------+----------+-------------+------------------+-----------------+\n",
      "only showing top 20 rows\n",
      "\n"
     ]
    }
   ],
   "source": [
    "df_2.show()"
   ]
  },
  {
   "cell_type": "code",
   "execution_count": 31,
   "id": "7afd6e0f",
   "metadata": {},
   "outputs": [
    {
     "name": "stdout",
     "output_type": "stream",
     "text": [
      "+-------+--------------------+------+----+------------------+------------------+------------------+-----------------+------------------+------------------+------------------+-----------------+-----------------+--------+------------------+------------------+------------------+------------------+------------------+-------------------------+---------------------------------------+------------------------+---------------------------+-------------------------------+-----------------+------------------------+---------------------------+-----------+-------------------------------+---------------+------------------+------------------+--------------+-----------+---------------+---------------+---------+-------------+----------------+----------------+------------+---------+-------------+-------------+-------+-------------------+--------------------+----------+------------------+------------------+------------------+-----------------+------------------+------------------+-------------------+--------------------+----------+-------------+------------------+------------------+\n",
      "|summary|             Airline|Origin|Dest|        CRSDepTime|           DepTime|   DepDelayMinutes|         DepDelay|           ArrTime|   ArrDelayMinutes|           AirTime|   CRSElapsedTime|ActualElapsedTime|Distance|              Year|           Quarter|             Month|        DayofMonth|         DayOfWeek|Marketing_Airline_Network|Operated_or_Branded_Code_Share_Partners|DOT_ID_Marketing_Airline|IATA_Code_Marketing_Airline|Flight_Number_Marketing_Airline|Operating_Airline|DOT_ID_Operating_Airline|IATA_Code_Operating_Airline|Tail_Number|Flight_Number_Operating_Airline|OriginAirportID|OriginAirportSeqID|OriginCityMarketID|OriginCityName|OriginState|OriginStateFips|OriginStateName|OriginWac|DestAirportID|DestAirportSeqID|DestCityMarketID|DestCityName|DestState|DestStateFips|DestStateName|DestWac|           DepDel15|DepartureDelayGroups|DepTimeBlk|           TaxiOut|         WheelsOff|          WheelsOn|           TaxiIn|        CRSArrTime|          ArrDelay|           ArrDel15|  ArrivalDelayGroups|ArrTimeBlk|DistanceGroup|DivAirportLandings| __index_level_0__|\n",
      "+-------+--------------------+------+----+------------------+------------------+------------------+-----------------+------------------+------------------+------------------+-----------------+-----------------+--------+------------------+------------------+------------------+------------------+------------------+-------------------------+---------------------------------------+------------------------+---------------------------+-------------------------------+-----------------+------------------------+---------------------------+-----------+-------------------------------+---------------+------------------+------------------+--------------+-----------+---------------+---------------+---------+-------------+----------------+----------------+------------+---------+-------------+-------------+-------+-------------------+--------------------+----------+------------------+------------------+------------------+-----------------+------------------+------------------+-------------------+--------------------+----------+-------------+------------------+------------------+\n",
      "|  count|                2227|  2227|2227|              2227|              2227|              2222|             2222|              2227|              2224|              2227|             2227|             2227|    2227|              2227|              2227|              2227|              2227|              2227|                     2227|                                   2227|                    2227|                       2227|                           2227|             2227|                    2227|                       2227|       2227|                           2227|           2227|              2227|              2227|          2227|       2227|           2227|           2227|     2227|         2227|            2227|            2227|        2227|     2227|         2227|         2227|   2227|               2222|                2222|      2227|              2227|              2227|              2227|             2227|              2227|              2224|               2224|                2224|      2227|         2227|              2227|              2227|\n",
      "|   mean|                NULL|  NULL|NULL|1137.2546026044006| 1146.565334530759|12.033753375337534|8.161566156615661|1244.5060619667715|11.974820143884893| 36.75123484508307|62.75662325999102|57.00673551863493|   145.0|2019.1082173327345| 2.634934889986529| 6.863493488998653|15.718006286484059|3.8998652896273014|                     NULL|                                   NULL|                 19790.0|                       NULL|              4246.934889986529|             NULL|         20322.439155815|                       NULL|       NULL|              4246.934889986529|        10146.0|         1014602.0|           30146.0|          NULL|       NULL|           13.0|           NULL|     34.0|      10397.0|       1039707.0|         30397.0|        NULL|     NULL|         13.0|         NULL|   34.0|0.11611161116111611|-0.18406840684068407|      NULL|12.364616075437809|1171.8082622361921|1232.8971710821734|7.890884598114055|1244.6632240682532|2.3965827338129495|0.11735611510791367|-0.45863309352517984|      NULL|          1.0|               0.0|280476.42388863943|\n",
      "| stddev|                NULL|  NULL|NULL| 425.4498008953655|432.51639382472604| 54.35456688486502|55.34130113914811|433.93325878116735|54.072079107973614|3.2013996338371755|4.479968884608443|8.793245053203481|     0.0|0.7357266007778133|1.1926327580521543|3.7576219050413915| 8.679708238580298|1.9987271285959225|                     NULL|                                   NULL|                     0.0|                       NULL|              563.8156864468119|             NULL|      27.354043818307137|                       NULL|       NULL|              563.8156864468119|            0.0|               0.0|               0.0|          NULL|       NULL|            0.0|           NULL|      0.0|          0.0|             0.0|             0.0|        NULL|     NULL|          0.0|         NULL|    0.0|0.32043082513504784|  2.2509906790547642|      NULL|  6.56886704552543| 438.0021667536032|431.24022832382866|3.130472563592019| 430.1548005996316|  56.7055364586226| 0.3219165321815322|   2.382666662570159|      NULL|          0.0|               0.0|201060.19148749296|\n",
      "|    min|   Endeavor Air Inc.|   ABY| ATL|               620|             606.0|               0.0|            -24.0|             652.0|               0.0|              31.0|             54.0|             38.0|   145.0|              2018|                 1|                 1|                 1|                 1|                       DL|                           DL_CODESHARE|                   19790|                         DL|                           3280|               9E|                   20304|                         9E|     N304PQ|                           3280|          10146|           1014602|             30146|    Albany, GA|         GA|             13|        Georgia|       34|        10397|         1039707|           30397| Atlanta, GA|       GA|           13|      Georgia|     34|                0.0|                -2.0| 0600-0659|               3.0|             616.0|             647.0|              1.0|               722|             -42.0|                0.0|                -2.0| 0700-0759|            1|               0.0|                 0|\n",
      "|    max|SkyWest Airlines ...|   ABY| ATL|              2150|            2255.0|            1168.0|           1168.0|            2345.0|            1191.0|              64.0|             71.0|            114.0|   145.0|              2020|                 4|                12|                31|                 7|                       DL|                           DL_CODESHARE|                   19790|                         DL|                           5480|               OO|                   20363|                         OO|     N981EV|                           5480|          10146|           1014602|             30146|    Albany, GA|         GA|             13|        Georgia|       34|        10397|         1039707|           30397| Atlanta, GA|       GA|           13|      Georgia|     34|                1.0|                12.0| 2100-2159|              58.0|            2305.0|            2340.0|             37.0|              2255|            1191.0|                1.0|                12.0| 2200-2259|            1|               0.0|            717254|\n",
      "+-------+--------------------+------+----+------------------+------------------+------------------+-----------------+------------------+------------------+------------------+-----------------+-----------------+--------+------------------+------------------+------------------+------------------+------------------+-------------------------+---------------------------------------+------------------------+---------------------------+-------------------------------+-----------------+------------------------+---------------------------+-----------+-------------------------------+---------------+------------------+------------------+--------------+-----------+---------------+---------------+---------+-------------+----------------+----------------+------------+---------+-------------+-------------+-------+-------------------+--------------------+----------+------------------+------------------+------------------+-----------------+------------------+------------------+-------------------+--------------------+----------+-------------+------------------+------------------+\n",
      "\n"
     ]
    }
   ],
   "source": [
    "df_2.describe().show()"
   ]
  },
  {
   "cell_type": "markdown",
   "id": "b4a4620c",
   "metadata": {},
   "source": [
    "### Joins "
   ]
  },
  {
   "cell_type": "code",
   "execution_count": 5,
   "id": "795d35cb",
   "metadata": {},
   "outputs": [
    {
     "name": "stdout",
     "output_type": "stream",
     "text": [
      "--- Employees DataFrame ---\n",
      "+------+--------+-------+\n",
      "|emp_id|emp_name|dept_id|\n",
      "+------+--------+-------+\n",
      "|     1|   Alice|     10|\n",
      "|     2|     Bob|     20|\n",
      "|     3| Charlie|     10|\n",
      "|     4|   David|   NULL|\n",
      "|     5|     Eve|     20|\n",
      "+------+--------+-------+\n",
      "\n",
      "--- Departments DataFrame ---\n",
      "+-------+-----------+\n",
      "|dept_id|  dept_name|\n",
      "+-------+-----------+\n",
      "|     10|Engineering|\n",
      "|     20|  Marketing|\n",
      "|     30|         HR|\n",
      "+-------+-----------+\n",
      "\n"
     ]
    }
   ],
   "source": [
    "from pyspark.sql import SparkSession\n",
    "from pyspark.sql.functions import col, broadcast\n",
    "\n",
    "# Employee data\n",
    "emp_data = [\n",
    "    (1, \"Alice\", 10),\n",
    "    (2, \"Bob\", 20),\n",
    "    (3, \"Charlie\", 10),\n",
    "    (4, \"David\", None), # Employee with no department\n",
    "    (5, \"Eve\", 20)\n",
    "]\n",
    "emp_columns = [\"emp_id\", \"emp_name\", \"dept_id\"]\n",
    "employees_df = spark.createDataFrame(data=emp_data, schema=emp_columns)\n",
    "\n",
    "# Department data\n",
    "dept_data = [\n",
    "    (10, \"Engineering\"),\n",
    "    (20, \"Marketing\"),\n",
    "    (30, \"HR\") # Department with no employees\n",
    "]\n",
    "dept_columns = [\"dept_id\", \"dept_name\"]\n",
    "depts_df = spark.createDataFrame(data=dept_data, schema=dept_columns)\n",
    "\n",
    "print(\"--- Employees DataFrame ---\")\n",
    "employees_df.show()\n",
    "print(\"--- Departments DataFrame ---\")\n",
    "depts_df.show()"
   ]
  },
  {
   "cell_type": "code",
   "execution_count": 6,
   "id": "cb90af41",
   "metadata": {},
   "outputs": [
    {
     "name": "stdout",
     "output_type": "stream",
     "text": [
      "--- Inner Join ---\n",
      "+-------+------+--------+-----------+\n",
      "|dept_id|emp_id|emp_name|  dept_name|\n",
      "+-------+------+--------+-----------+\n",
      "|     10|     1|   Alice|Engineering|\n",
      "|     10|     3| Charlie|Engineering|\n",
      "|     20|     2|     Bob|  Marketing|\n",
      "|     20|     5|     Eve|  Marketing|\n",
      "+-------+------+--------+-----------+\n",
      "\n"
     ]
    }
   ],
   "source": [
    "# The join condition is on the 'dept_id' column\n",
    "inner_join_df = employees_df.join(depts_df, \"dept_id\", \"inner\")\n",
    "\n",
    "print(\"--- Inner Join ---\")\n",
    "inner_join_df.show()"
   ]
  },
  {
   "cell_type": "code",
   "execution_count": 7,
   "id": "a68d60de",
   "metadata": {},
   "outputs": [
    {
     "name": "stdout",
     "output_type": "stream",
     "text": [
      "--- Left Join ---\n",
      "+-------+------+--------+-----------+\n",
      "|dept_id|emp_id|emp_name|  dept_name|\n",
      "+-------+------+--------+-----------+\n",
      "|     10|     1|   Alice|Engineering|\n",
      "|     20|     2|     Bob|  Marketing|\n",
      "|     10|     3| Charlie|Engineering|\n",
      "|   NULL|     4|   David|       NULL|\n",
      "|     20|     5|     Eve|  Marketing|\n",
      "+-------+------+--------+-----------+\n",
      "\n"
     ]
    }
   ],
   "source": [
    "# The join condition is on the 'dept_id' column\n",
    "left_join_df = employees_df.join(depts_df, \"dept_id\", \"left\")\n",
    "\n",
    "print(\"--- Left Join ---\")\n",
    "left_join_df.show()"
   ]
  },
  {
   "cell_type": "markdown",
   "id": "e90fa06c",
   "metadata": {},
   "source": [
    "### Complex joins with multiple conditions"
   ]
  },
  {
   "cell_type": "code",
   "execution_count": 13,
   "id": "4e66b843",
   "metadata": {},
   "outputs": [],
   "source": [
    "join_conditions_list = [\n",
    "    # Condition 1: Product IDs must match\n",
    "    (employees_df.dept_id == depts_df.dept_id)&\n",
    "\n",
    "    # Condition 2: Sale timestamp must be on or after the start time\n",
    "    (depts_df.dept_name==\"Marketing\")\n",
    "\n",
    "]"
   ]
  },
  {
   "cell_type": "code",
   "execution_count": 14,
   "id": "d7b8c566",
   "metadata": {},
   "outputs": [],
   "source": [
    "sales_with_promo_df = employees_df.join(\n",
    "    depts_df,\n",
    "    on=join_conditions_list,\n",
    "    how=\"left\"\n",
    ")"
   ]
  },
  {
   "cell_type": "code",
   "execution_count": 15,
   "id": "8829c159",
   "metadata": {},
   "outputs": [
    {
     "name": "stdout",
     "output_type": "stream",
     "text": [
      "+------+--------+-------+-------+---------+\n",
      "|emp_id|emp_name|dept_id|dept_id|dept_name|\n",
      "+------+--------+-------+-------+---------+\n",
      "|     1|   Alice|     10|   NULL|     NULL|\n",
      "|     2|     Bob|     20|     20|Marketing|\n",
      "|     3| Charlie|     10|   NULL|     NULL|\n",
      "|     4|   David|   NULL|   NULL|     NULL|\n",
      "|     5|     Eve|     20|     20|Marketing|\n",
      "+------+--------+-------+-------+---------+\n",
      "\n"
     ]
    }
   ],
   "source": [
    "sales_with_promo_df.show()"
   ]
  },
  {
   "cell_type": "code",
   "execution_count": 16,
   "id": "b1317193",
   "metadata": {},
   "outputs": [],
   "source": [
    "spark.stop()"
   ]
  }
 ],
 "metadata": {
  "kernelspec": {
   "display_name": "base",
   "language": "python",
   "name": "python3"
  },
  "language_info": {
   "codemirror_mode": {
    "name": "ipython",
    "version": 3
   },
   "file_extension": ".py",
   "mimetype": "text/x-python",
   "name": "python",
   "nbconvert_exporter": "python",
   "pygments_lexer": "ipython3",
   "version": "3.10.9"
  }
 },
 "nbformat": 4,
 "nbformat_minor": 5
}
