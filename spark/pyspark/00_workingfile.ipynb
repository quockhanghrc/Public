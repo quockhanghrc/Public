{
 "cells": [
  {
   "cell_type": "markdown",
   "metadata": {},
   "source": [
    "## Learning pyspark\n",
    "Just basic function of pyspark to show how to utilize this data processing method  \n",
    "I also integrated with git functions for version control"
   ]
  },
  {
   "cell_type": "code",
   "execution_count": null,
   "metadata": {},
   "outputs": [
    {
     "name": "stdout",
     "output_type": "stream",
     "text": [
      "Spark version: 3.5.4\n",
      "Python version: 3.10.9 | packaged by Anaconda, Inc. | (main, Mar  1 2023, 18:18:15) [MSC v.1916 64 bit (AMD64)]\n"
     ]
    }
   ],
   "source": [
    "import pyspark\n",
    "import sys\n",
    "import pandas as pd\n",
    "print(f\"Spark version: {pyspark.__version__}\")\n",
    "print(f\"Python version: {sys.version}\")\n"
   ]
  },
  {
   "cell_type": "code",
   "execution_count": null,
   "metadata": {},
   "outputs": [
    {
     "name": "stderr",
     "output_type": "stream",
     "text": [
      "openjdk version \"11.0.26\" 2025-01-21\n",
      "OpenJDK Runtime Environment Temurin-11.0.26+4 (build 11.0.26+4)\n",
      "OpenJDK 64-Bit Server VM Temurin-11.0.26+4 (build 11.0.26+4, mixed mode)\n"
     ]
    }
   ],
   "source": [
    "!java -version"
   ]
  },
  {
   "cell_type": "code",
   "execution_count": 4,
   "metadata": {},
   "outputs": [
    {
     "name": "stdout",
     "output_type": "stream",
     "text": [
      "Spark Version: 3.5.4\n"
     ]
    }
   ],
   "source": [
    "from pyspark.sql import SparkSession\n",
    "\n",
    "spark = SparkSession.builder \\\n",
    "    .appName(\"CustomerSegmentation\") \\\n",
    "    .master(\"local[1]\") \\\n",
    "    .config(\"spark.logConf\", \"true\") \\\n",
    "    .config(\"spark.executor.memory\", \"2g\") \\\n",
    "    .config(\"spark.driver.memory\", \"2g\") \\\n",
    "    .config(\"spark.driver.host\", \"127.0.0.1\") \\\n",
    "    .getOrCreate()\n",
    "\n",
    "sc = spark.sparkContext\n",
    "sc.setLogLevel(\"INFO\")\n",
    "print(\"Spark Version:\", spark.version)\n",
    "#spark.stop()\n"
   ]
  },
  {
   "cell_type": "code",
   "execution_count": 6,
   "metadata": {},
   "outputs": [
    {
     "name": "stdout",
     "output_type": "stream",
     "text": [
      "+----------+---+------+-------------+\n",
      "|CustomerID|Age|Income|SpendingScore|\n",
      "+----------+---+------+-------------+\n",
      "|         1| 25| 50000|           39|\n",
      "|         2| 45| 64000|           81|\n",
      "|         3| 30| 57000|            6|\n",
      "|         4| 50| 52000|           77|\n",
      "|         5| 28| 61000|           40|\n",
      "|         6| 40| 79000|           75|\n",
      "|         7| 38| 73000|           13|\n",
      "|         8| 35| 67000|           88|\n",
      "|         9| 48| 85000|           85|\n",
      "|        10| 26| 48000|           15|\n",
      "+----------+---+------+-------------+\n",
      "\n"
     ]
    }
   ],
   "source": [
    "from pyspark.sql import Row\n",
    "\n",
    "# Sample Data\n",
    "data = [\n",
    "    Row(CustomerID=1, Age=25, Income=50000, SpendingScore=39),\n",
    "    Row(CustomerID=2, Age=45, Income=64000, SpendingScore=81),\n",
    "    Row(CustomerID=3, Age=30, Income=57000, SpendingScore=6),\n",
    "    Row(CustomerID=4, Age=50, Income=52000, SpendingScore=77),\n",
    "    Row(CustomerID=5, Age=28, Income=61000, SpendingScore=40),\n",
    "    Row(CustomerID=6, Age=40, Income=79000, SpendingScore=75),\n",
    "    Row(CustomerID=7, Age=38, Income=73000, SpendingScore=13),\n",
    "    Row(CustomerID=8, Age=35, Income=67000, SpendingScore=88),\n",
    "    Row(CustomerID=9, Age=48, Income=85000, SpendingScore=85),\n",
    "    Row(CustomerID=10, Age=26, Income=48000, SpendingScore=15)\n",
    "]\n",
    "\n",
    "# Create DataFrame\n",
    "df = spark.createDataFrame(data)\n",
    "df.show()\n"
   ]
  },
  {
   "cell_type": "code",
   "execution_count": 7,
   "metadata": {},
   "outputs": [],
   "source": [
    "spark.stop()"
   ]
  }
 ],
 "metadata": {
  "kernelspec": {
   "display_name": "base",
   "language": "python",
   "name": "python3"
  },
  "language_info": {
   "codemirror_mode": {
    "name": "ipython",
    "version": 3
   },
   "file_extension": ".py",
   "mimetype": "text/x-python",
   "name": "python",
   "nbconvert_exporter": "python",
   "pygments_lexer": "ipython3",
   "version": "3.10.9"
  }
 },
 "nbformat": 4,
 "nbformat_minor": 2
}
