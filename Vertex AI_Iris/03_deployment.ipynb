{
 "cells": [
  {
   "cell_type": "code",
   "execution_count": 2,
   "id": "8655df1a-49d1-4e7e-80c2-88292f40055e",
   "metadata": {},
   "outputs": [],
   "source": [
    "#import functions_framework\n",
    "from google.cloud import aiplatform\n",
    "import pandas as pd \n",
    "import random\n",
    "from datetime import datetime\n"
   ]
  },
  {
   "cell_type": "code",
   "execution_count": 93,
   "id": "d7d10d40-3bea-428c-8c8e-06f286a26cfb",
   "metadata": {},
   "outputs": [],
   "source": [
    "project_id = \"teak-store-392915\"\n",
    "location = 'asia-southeast1'\n",
    "endpoint_id = '7458972533623095296'\n",
    "\n",
    "request={\n",
    "  \"orderid\": 14144,\n",
    "  \"sepal_length\": 0.06834405854096759,\n",
    "  \"sepal_width\": 0.036394498060516756,\n",
    "  \"petal_length\": 10,\n",
    "  \"petal_width\": 2\n",
    "}\n",
    "\n",
    "request_json = request#.get_json(silent=True)\n",
    "#request_args = request.args\n",
    "\n",
    "# Initialize the prediction client\n",
    "client_options = {'api_endpoint': f'{location}-aiplatform.googleapis.com'}\n",
    "prediction_client = aiplatform.gapic.PredictionServiceClient(client_options=client_options)\n",
    "\n",
    "# Prepare input data (replace with your actual input data)\n",
    "input_data = [[request_json['sepal_length'],request_json['sepal_width'],request_json['petal_length'],request_json['petal_width'] ]]\n",
    "#print(input_data)\n",
    "# Send prediction request\n",
    "endpoint = prediction_client.endpoint_path(project=project_id, location=location, endpoint=endpoint_id)\n",
    "try:\n",
    "    response = prediction_client.predict(endpoint=endpoint, instances=input_data)\n",
    "    response = MessageToDict(response._pb)\n",
    "\n",
    "    order_id=request_json['orderid']\n",
    "    response_dict={\n",
    "    'request_id':order_id,\n",
    "    'prediction_dtime':datetime.now(),\n",
    "    'predictions':response['predictions'],\n",
    "    'model_id':response['deployedModelId'],\n",
    "    'model':response['model'],\n",
    "    'model_display_name':response['modelDisplayName'],\n",
    "    'model_version_id':response['modelVersionId'],\n",
    "    }\n",
    "except:\n",
    "    print('Error')"
   ]
  },
  {
   "cell_type": "code",
   "execution_count": 94,
   "id": "47a99ac2-b639-476d-a505-65c3ac42a625",
   "metadata": {},
   "outputs": [
    {
     "data": {
      "text/plain": [
       "{'request_id': 14144,\n",
       " 'prediction_dtime': datetime.datetime(2024, 9, 1, 11, 59, 48, 481004),\n",
       " 'predictions': [{'proba': [0.0, 0.0, 1.0], 'class': 'virginica'}],\n",
       " 'model_id': '2657180954753236992',\n",
       " 'model': 'projects/958509004100/locations/asia-southeast1/models/8350861181702897664',\n",
       " 'model_display_name': 'experiment_iris_model',\n",
       " 'model_version_id': '1'}"
      ]
     },
     "execution_count": 94,
     "metadata": {},
     "output_type": "execute_result"
    }
   ],
   "source": [
    "response_dict"
   ]
  },
  {
   "cell_type": "code",
   "execution_count": 87,
   "id": "a1981b09-26d1-499b-9ddd-be8eb452077b",
   "metadata": {},
   "outputs": [],
   "source": [
    "    df = pd.DataFrame(response_dict)\n"
   ]
  },
  {
   "cell_type": "code",
   "execution_count": 90,
   "id": "919bd37a-ed03-4fd1-936f-60f012cf52bb",
   "metadata": {},
   "outputs": [
    {
     "data": {
      "text/plain": [
       "{'proba': [1.0, 0.0, 0.0], 'class': 'setosa'}"
      ]
     },
     "execution_count": 90,
     "metadata": {},
     "output_type": "execute_result"
    }
   ],
   "source": [
    "df['predictions'][0]"
   ]
  },
  {
   "cell_type": "code",
   "execution_count": null,
   "id": "e17aaf97-17dc-4b84-a1a5-18991c45bf5f",
   "metadata": {},
   "outputs": [],
   "source": [
    "from google.protobuf.json_format import MessageToDict"
   ]
  },
  {
   "cell_type": "code",
   "execution_count": 79,
   "id": "b5e797a1-49bf-4ad0-8649-cc0f9d82042a",
   "metadata": {},
   "outputs": [],
   "source": [
    "d = MessageToDict(predict._pb)"
   ]
  },
  {
   "cell_type": "code",
   "execution_count": 80,
   "id": "8698174e-0e63-4530-9a73-f2ff00516ff0",
   "metadata": {},
   "outputs": [
    {
     "data": {
      "text/plain": [
       "{'predictions': [{'proba': [1.0, 0.0, 0.0], 'class': 'setosa'}],\n",
       " 'deployedModelId': '2657180954753236992',\n",
       " 'model': 'projects/958509004100/locations/asia-southeast1/models/8350861181702897664',\n",
       " 'modelDisplayName': 'experiment_iris_model',\n",
       " 'modelVersionId': '1'}"
      ]
     },
     "execution_count": 80,
     "metadata": {},
     "output_type": "execute_result"
    }
   ],
   "source": [
    "d"
   ]
  },
  {
   "cell_type": "code",
   "execution_count": 47,
   "id": "f426d05e-36ad-43da-88da-cb63c42c6a36",
   "metadata": {},
   "outputs": [
    {
     "data": {
      "text/plain": [
       "<bound method Sequence.count of [<proto.marshal.collections.maps.MapComposite object at 0x7fa282c90ad0>]>"
      ]
     },
     "execution_count": 50,
     "metadata": {},
     "output_type": "execute_result"
    }
   ],
   "source": [
    "first_element = response.predictions.get\n"
   ]
  },
  {
   "cell_type": "code",
   "execution_count": 6,
   "id": "37cee2c9-dec2-41cf-9016-7a154d854329",
   "metadata": {},
   "outputs": [
    {
     "data": {
      "text/plain": [
       "{'request_id': 14144,\n",
       " 'prediction_dtime': datetime.datetime(2024, 9, 1, 11, 9, 25, 244909),\n",
       " 'predictions': [<proto.marshal.collections.maps.MapComposite object at 0x7fa285598750>],\n",
       " 'model_id': '2657180954753236992',\n",
       " 'model': 'projects/958509004100/locations/asia-southeast1/models/8350861181702897664',\n",
       " 'model_display_name': 'experiment_iris_model',\n",
       " 'model_version_id': '1'}"
      ]
     },
     "execution_count": 6,
     "metadata": {},
     "output_type": "execute_result"
    }
   ],
   "source": [
    "response_dict"
   ]
  }
 ],
 "metadata": {
  "kernelspec": {
   "display_name": "Python (Local)",
   "language": "python",
   "name": "local-base"
  },
  "language_info": {
   "codemirror_mode": {
    "name": "ipython",
    "version": 3
   },
   "file_extension": ".py",
   "mimetype": "text/x-python",
   "name": "python",
   "nbconvert_exporter": "python",
   "pygments_lexer": "ipython3",
   "version": "3.7.12"
  }
 },
 "nbformat": 4,
 "nbformat_minor": 5
}
