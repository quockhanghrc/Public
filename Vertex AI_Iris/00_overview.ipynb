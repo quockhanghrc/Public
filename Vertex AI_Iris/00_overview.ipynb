{
 "cells": [
  {
   "cell_type": "markdown",
   "id": "0302d58d-b562-470e-a37e-07014a10398e",
   "metadata": {},
   "source": [
    "# Overview "
   ]
  },
  {
   "cell_type": "markdown",
   "id": "2b01903f-b659-4651-9ba4-233a2c2e5582",
   "metadata": {},
   "source": [
    "Create ML model serving pipeline with following components:\n",
    "- Data source: Use iris dataset as training dataset.   \n",
    "- For serving, use Confluent Kafka to simulate training data base on their data schema   \n",
    "\n",
    "With Confluent Kafka, see avro schema to self-define your own simulated data structure (column names, min/max value,... )\n",
    "Link https://github.com/confluentinc/kafka-connect-datagen/tree/master/src/main/resources"
   ]
  },
  {
   "cell_type": "markdown",
   "id": "e3fc5316-a50f-424e-ae1a-5b99415ee1b5",
   "metadata": {},
   "source": [
    "## Model deployment: Google Vertex AI\n",
    "See notebooks - Deploy model into an endpoint "
   ]
  },
  {
   "cell_type": "markdown",
   "id": "6fb84eda-bce8-4b7c-8ef6-c3539abf7acc",
   "metadata": {},
   "source": [
    "## Prediction control: Google Cloud Run  \n",
    "See in cloud_run_src to modify input / output of prediction result "
   ]
  },
  {
   "cell_type": "markdown",
   "id": "f8514c01-51ea-4f28-b5d1-0350adb15859",
   "metadata": {},
   "source": [
    "## Analytics package \n",
    "- Storage: Google Cloud Storage\n",
    "- Analytics / Monitoring: Google BigQuery, Looker Studio\n",
    "\n",
    "Store result for monitoring, analytics \n",
    "\n",
    "Sample: \n",
    "https://lookerstudio.google.com/reporting/36036a36-bb34-4a7b-84b0-d93047d54733"
   ]
  }
 ],
 "metadata": {
  "kernelspec": {
   "display_name": "Python (Local)",
   "language": "python",
   "name": "local-base"
  },
  "language_info": {
   "codemirror_mode": {
    "name": "ipython",
    "version": 3
   },
   "file_extension": ".py",
   "mimetype": "text/x-python",
   "name": "python",
   "nbconvert_exporter": "python",
   "pygments_lexer": "ipython3",
   "version": "3.7.12"
  }
 },
 "nbformat": 4,
 "nbformat_minor": 5
}
